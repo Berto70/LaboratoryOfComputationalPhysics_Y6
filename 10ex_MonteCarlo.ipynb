{
 "cells": [
  {
   "cell_type": "code",
   "execution_count": 1,
   "metadata": {},
   "outputs": [],
   "source": [
    "import numpy as np \n",
    "from scipy import stats\n",
    "import matplotlib.pyplot as plt\n",
    "import seaborn as sns"
   ]
  },
  {
   "cell_type": "markdown",
   "metadata": {},
   "source": [
    "1\\. **Radioactive decay chain**\n",
    "\n",
    "${\\rm Tl}^{208}$ decays to ${\\rm Pb}^{208}$ with a half-lieve of 3.052 minutes. Suppose to start with a sample of 1000 Thallium atoms and 0 of Lead atoms.\n",
    "\n",
    "* Take steps in time of 1 second and at each time-step decide whether each Tl atom has decayed or not, accordingly to the probability $p(t)=1-2^{-t/\\tau}$. Subtract the total number of Tl atoms that decayed at each step from the Tl sample and add them to the Lead one. Plot the evolution of the two sets as a function of time  \n",
    "* Repeat the exercise by means of the inverse transform method: draw 1000 random numbers from the non-uniform probability distribution $p(t)=2^{-t/\\tau}\\frac{\\ln 2}{\\tau}$ to represent the times of decay of the 1000 Tl atoms. Make a plot showing the number of atoms that have not decayed as a function of time"
   ]
  },
  {
   "cell_type": "markdown",
   "metadata": {},
   "source": [
    "2\\. **Rutherford Scattering**\n",
    "\n",
    "The scattering angle $\\theta$ of $\\alpha$ particles hitting a positively charged nucleus of a Gold atom ($Z=79$) follows the rule:\n",
    "\n",
    "$$\n",
    "\\tan{\\frac{1}{2} \\theta} = \\frac{Z e^2} {2\\pi \\epsilon_0 E b}\n",
    "$$\n",
    "\n",
    "where $E=7.7$ MeV and $b$ beam is the impact parameter. The beam is represented by a 2D gaussian distribution with $\\sigma=a_0/100$ for both coordinates ($a_0$ being the Bohr radius). Assume 1 million $\\alpha$ particles are shot on the gold atom.\n",
    "\n",
    "Computing the fraction of particles that \"bounce back\",i.e. those particle whose scattering angle is greater than $\\pi/2$ (which set a condition on the impact parameter $b$)"
   ]
  },
  {
   "cell_type": "markdown",
   "metadata": {},
   "source": [
    "3\\. **Monte Carlo integration: hit/miss vs mean value method**\n",
    "\n",
    "Consider the function \n",
    "\n",
    "$$f(x) =\\sin^2{\\frac{1}{x(2-x)}}$$\n",
    "\n",
    "* Compute the integral of $f(x)$ between 0 and 2 with the hit/miss method. Evaluate the error of your estimate\n",
    "* Repeat the integral with the mean value method. Evaluate the error and compare it with the previous one"
   ]
  },
  {
   "cell_type": "code",
   "execution_count": 6,
   "metadata": {},
   "outputs": [
    {
     "name": "stdout",
     "output_type": "stream",
     "text": [
      "Integral: 1.451586, Error: 0.0005275378857047181\n",
      "Integral: 1.4508163857776484, Error: 0.0005276548632385677\n"
     ]
    }
   ],
   "source": [
    "def f1(x):\n",
    "    return np.sin(1/(x*(2-x)))**2\n",
    "\n",
    "# To compute the integral of `func1(x)` between 0 and 2 using the hit/miss Monte Carlo method, we can follow these steps:\n",
    "\n",
    "# 1. Define the number of random points `n` to be used for the estimation.\n",
    "# 2. Generate `n` random points `x` in the interval [0, 2].\n",
    "# 3. Generate `n` random points `y` in the interval [0, 1] (assuming the function `func1(x)` is bounded between 0 and 1).\n",
    "# 4. Compute `func1(x)` for each randomly generated `x`.\n",
    "# 5. Count the number of points `y` that are below `func1(x)`.\n",
    "# 6. The integral is approximately equal to the count divided by `n`, times the area of the bounding box (2 in this case).\n",
    "# 7. The error of the estimate can be computed as the square root of the variance divided by `n`.\n",
    "    \n",
    "n_steps = 1_000_000\n",
    "\n",
    "def hitmiss(func, a, b, n):\n",
    "    x = np.random.uniform(a, b, n)\n",
    "    y = np.random.uniform(0, 1, n) # must br bounded \n",
    "    func_v = func(x)\n",
    "    hits = np.sum(y < func_v)\n",
    "\n",
    "    integral = hits/n * (b - a)\n",
    "    error = (b - a) * np.sqrt((func_v**2).mean() - (func_v.mean())**2) / np.sqrt(n)\n",
    "    \n",
    "    return integral, error\n",
    "\n",
    "integral_hit, error_hit = hitmiss(f1, 0, 2, n_steps)\n",
    "print(f\"Integral: {integral_hit}, Error: {error_hit}\")\n",
    "\n",
    "\n",
    "def meanint(func, a, b, n):\n",
    "    x = np.random.uniform(a, b, n)\n",
    "    integral = (b-a)/n * np.sum(func(x))\n",
    "    error = (b - a) * np.sqrt((func(x)**2).mean() - (func(x).mean())**2) / np.sqrt(n)\n",
    "\n",
    "    return integral, error\n",
    "\n",
    "integral_mean, error_mean = meanint(f1, 0, 2, n_steps)\n",
    "print(f\"Integral: {integral_mean}, Error: {error_mean}\")"
   ]
  },
  {
   "cell_type": "markdown",
   "metadata": {},
   "source": [
    "4\\. **Monte Carlo integration in high dimension**\n",
    "\n",
    "* Start of by computing the area of a circle of unit radius, by integrating the function \n",
    "\n",
    "$$\n",
    "f(x,y)=\n",
    "\\left\\{\n",
    "\\begin{array}{ll}\n",
    "      1 & x^2+y^2\\le 1 \\\\\n",
    "      0 & {\\rm elsewhere}\n",
    "\\end{array} \n",
    "\\right.\n",
    "$$\n",
    "\n",
    "* Generalize the result for a 10D sphere\n",
    "\n"
   ]
  },
  {
   "cell_type": "code",
   "execution_count": 11,
   "metadata": {},
   "outputs": [
    {
     "name": "stdout",
     "output_type": "stream",
     "text": [
      "3.139436\n",
      "relative error: 0.0006864841587049443\n",
      "2.453504\n",
      "relative error: 0.037903459685673394\n"
     ]
    }
   ],
   "source": [
    "def circle(x, y):\n",
    "    if x**2 + y**2 <= 1:\n",
    "        return 1\n",
    "    else: return 0\n",
    "\n",
    "n_steps = 1_000_000\n",
    "\n",
    "points = np.random.uniform(-1, 1, (n_steps, 2))\n",
    "\n",
    "count = 0\n",
    "for i in range(n_steps):\n",
    "    count += circle(points[i, 0], points[i, 1])\n",
    "\n",
    "integral = 4*count/n_steps \n",
    "\n",
    "print(integral)\n",
    "\n",
    "print('relative error:', np.abs(np.pi-integral)/np.pi)\n",
    "\n",
    "def circleV(x):\n",
    "    if np.sum([i**2 for i in x])<=1:\n",
    "        return 1\n",
    "    else:\n",
    "        return 0\n",
    "    \n",
    "n_dim = 10\n",
    "\n",
    "V_dim = 2**n_dim\n",
    "\n",
    "points = np.random.uniform(-1, 1, (n_steps, n_dim))\n",
    "\n",
    "count = 0\n",
    "for i in range(n_steps):\n",
    "    count += circleV(points[i, :])\n",
    "\n",
    "integral = V_dim*count/n_steps \n",
    "\n",
    "print(integral)\n",
    "print('relative error:', np.abs((np.pi**5/120)-integral)/(np.pi**5/120))\n"
   ]
  },
  {
   "cell_type": "markdown",
   "metadata": {},
   "source": [
    "5\\. **Monte Carlo integration with importance sampling** \n",
    "\n",
    "Calculate the value of the integral:\n",
    "\n",
    "$$\n",
    "I=\\int_0^1 \\frac{x^{-1/2}}{e^x+1} dx\n",
    "$$\n",
    "\n",
    "using the importance sampling method with $w(x)=1/\\sqrt{x}$. You should get a result about 0.84"
   ]
  },
  {
   "cell_type": "code",
   "execution_count": 12,
   "metadata": {},
   "outputs": [
    {
     "name": "stdout",
     "output_type": "stream",
     "text": [
      "0.7623057080838624\n"
     ]
    }
   ],
   "source": [
    "def expfunc(x):\n",
    "    return x**(-0.5) / (np.exp(x)+1)\n",
    "\n",
    "def w(x):\n",
    "    return 1/np.sqrt(x)\n",
    "\n",
    "def importance(func, weight, a, b, n):\n",
    "\n",
    "    def w_int(weight, a, b, n):\n",
    "        x = np.random.uniform(a, b, n)\n",
    "        int_w = (b-a)*np.sum(weight(x))/n\n",
    "        return int_w\n",
    "    \n",
    "    x = np.random.uniform(a, b, n)\n",
    "    integral = 1/n * np.sum(func(x)/weight(x)) * w_int(weight, a, b, n)\n",
    "\n",
    "    return integral \n",
    "\n",
    "integral = importance(expfunc, w, 0, 1, 1_000_000)\n",
    "\n",
    "print(integral)"
   ]
  },
  {
   "cell_type": "code",
   "execution_count": null,
   "metadata": {},
   "outputs": [],
   "source": []
  }
 ],
 "metadata": {
  "kernelspec": {
   "display_name": "Python 3",
   "language": "python",
   "name": "python3"
  },
  "language_info": {
   "codemirror_mode": {
    "name": "ipython",
    "version": 3
   },
   "file_extension": ".py",
   "mimetype": "text/x-python",
   "name": "python",
   "nbconvert_exporter": "python",
   "pygments_lexer": "ipython3",
   "version": "3.8.17"
  }
 },
 "nbformat": 4,
 "nbformat_minor": 2
}
