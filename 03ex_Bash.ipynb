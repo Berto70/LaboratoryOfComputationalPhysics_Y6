{
 "cells": [
  {
   "cell_type": "markdown",
   "id": "b5746bd0",
   "metadata": {},
   "source": [
    "The following exercises are meant to be solved by gathering the bash commands incrimentally in two scripts, one for ex 1.* the other for ex 2.* "
   ]
  },
  {
   "cell_type": "markdown",
   "id": "4e60de78",
   "metadata": {},
   "source": [
    "### Ex 1"
   ]
  },
  {
   "cell_type": "markdown",
   "id": "6759df36",
   "metadata": {},
   "source": [
    "1\\.a Make a new directory called `students` in your home. Download a csv file with the list of students of this lab from [here](https://www.dropbox.com/s/867rtx3az6e9gm8/LCP_22-23_students.csv) (use the `wget` command) and copy that to `students`. First check whether the file is already there.\n",
    "\n",
    "1\\.b Make two new files, one containing the students belonging to PoD, the other to Physics.\n",
    "\n",
    "1\\.c For each letter of the alphabet, count the number of students whose surname starts with that letter.\n",
    "\n",
    "1\\.d Find out which is the letter with most counts.  \n",
    "\n",
    "1\\.e Assume an obvious numbering of the students in the file (first line is 1, second line is 2, etc.), group students \"modulo 18\", i.e. 1,19,37,.. 2,20,38,.. etc. and put each group in a separate file  "
   ]
  },
  {
   "cell_type": "markdown",
   "id": "3e18909e",
   "metadata": {},
   "source": [
    "```bash\n",
    "\n",
    "#!/bin/bash\n",
    "\n",
    "# 1.a\n",
    "mkdir -p bash/students\n",
    "\n",
    "if [ ! -f ./bash/students/LCP_22-23_students.csv ]; then\n",
    "\n",
    "    # Download the CSV file from Dropbox.\n",
    "    wget https://www.dropbox.com/s/867rtx3az6e9gm8/LCP_22-23_students.csv -O ./bash/students/LCP_22-23_students.csv\n",
    "\n",
    "    # Check if the download was successful.\n",
    "    if [ $? -eq 0 ]; then\n",
    "        echo \"1.a) CSV file downloaded successfully.\"\n",
    "    else\n",
    "        echo \"Error downloading CSV file.\"\n",
    "        exit 1\n",
    "    fi\n",
    "else\n",
    "    echo \"1.a) CSV file already exists.\"\n",
    "fi\n",
    "\n",
    "# 1.b\n",
    "cd ./bash/students\n",
    "\n",
    "# Get the list of students from the CSV file.\n",
    "students=$(cat LCP_22-23_students.csv)\n",
    "\n",
    "# Create two new files, one for PoD students and one for Physics students.\n",
    "touch ./pod_students.csv\n",
    "touch ./physics_students.csv\n",
    "\n",
    "# Split the list of students into two lists, one for PoD students and one for Physics students.\n",
    "pod_students=$(grep \"PoD\" <<< \"$students\")\n",
    "physics_students=$(grep \"Physics\" <<< \"$students\")\n",
    "\n",
    "# Write the PoD students to the \"pod_students.csv\" file.\n",
    "echo \"$pod_students\" > ./pod_students.csv\n",
    "\n",
    "# Write the Physics students to the \"physics_students.csv\" file.\n",
    "echo \"$physics_students\" > ./physics_students.csv\n",
    "\n",
    "# Print a message to the user.\n",
    "echo \"1.b) Two new files have been created.\"\n",
    "\n",
    "# 1.c\n",
    "echo \"1.c) First letter count:\"\n",
    "for letter in {A..Z}; do\n",
    "    echo \"$letter: $(grep -i \"^$letter\" LCP_22-23_students.csv | wc -l)\"\n",
    "done\n",
    "\n",
    "# 1.d\n",
    "echo \"1.d) Letter with most counts:\"\n",
    "for letter in {A..Z}; do\n",
    "    echo \"$letter: $(grep -i \"^$letter\" LCP_22-23_students.csv | wc -l)\"\n",
    "done | sort -t: -k2 -n | tail -1\n",
    "\n",
    "# 1.e\n",
    "awk -F, 'BEGIN{group=1} {print > \"group_\"group\".csv\"; if(NR%18==0){group++}}' LCP_22-23_students.csv\n",
    "echo \"1.e) Files created\"\n",
    "\n",
    "```"
   ]
  },
  {
   "cell_type": "markdown",
   "id": "1d730d21",
   "metadata": {},
   "source": [
    "### Ex 2"
   ]
  },
  {
   "cell_type": "markdown",
   "id": "4b87ecb7",
   "metadata": {},
   "source": [
    "2.a Make a copy of the file `data.csv` removing the metadata and the commas between numbers; call it `data.txt`  \n",
    "\n",
    "2\\.b How many even numbers are there?  \n",
    "\n",
    "2\\.c Distinguish the entries on the basis of `sqrt(X^2 + Y^2 + Z^2)` is greater or smaller than `100*sqrt(3)/2`. Count the entries of each of the two groups.  \n",
    " \n",
    "2\\.d Make `n` copies of data.txt (with `n` an input parameter of the script), where the i-th copy has all the numbers divided by i (with `1<=i<=n`)."
   ]
  },
  {
   "cell_type": "markdown",
   "id": "5c31c409",
   "metadata": {},
   "source": [
    "```bash\n",
    "\n",
    "#!/bin/bash\n",
    "\n",
    "mkdir ./bash/data\n",
    "\n",
    "# 2.a\n",
    "echo \"2.a)\"\n",
    "grep -v '^#' ./test/data.csv | tr ',' ' ' > ./bash/data/data.txt\n",
    "echo \"File created\"\n",
    "\n",
    "cd ./bash/data\n",
    "\n",
    "# 2.b\n",
    "echo \"2.b) even numbers count:\"\n",
    "awk '{for(i=1;i<=NF;i++) if($i % 2 == 0) count++} END{print count}' data.txt   \n",
    "\n",
    "# 2.c\n",
    "echo \"2.c) gt/lt 100*sqrt(3)/2:\"\n",
    "awk '{sqrt_sum=sqrt($1*$1 + $2*$2 + $3*$3); if(sqrt_sum > 100*sqrt(3)/2) count_greater++; else count_smaller++} END{print \"Greater: \" count_greater \", Smaller: \" count_smaller}' data.txt\n",
    "\n",
    "# 2.d\n",
    "echo \"2.d)\"\n",
    "n=$1\n",
    "\n",
    "# checking if the user provided an input\n",
    "if [ -z $1 ]\n",
    "then\n",
    "    echo \"this script requires as input the name of the file to be created\"    \n",
    "    exit\n",
    "else \n",
    "    for ((i=1;i<=n;i++)); do\n",
    "        awk -v i=$i '{for(j=1;j<=NF;j++) printf(\"%f \", $j/i); print \"\"}' data.txt > \"data_$i.txt\"\n",
    "    done\n",
    "fi\n",
    "\n",
    "```"
   ]
  }
 ],
 "metadata": {
  "kernelspec": {
   "display_name": "Python 3 (ipykernel)",
   "language": "python",
   "name": "python3"
  },
  "language_info": {
   "codemirror_mode": {
    "name": "ipython",
    "version": 3
   },
   "file_extension": ".py",
   "mimetype": "text/x-python",
   "name": "python",
   "nbconvert_exporter": "python",
   "pygments_lexer": "ipython3",
   "version": "3.9.7"
  }
 },
 "nbformat": 4,
 "nbformat_minor": 5
}
