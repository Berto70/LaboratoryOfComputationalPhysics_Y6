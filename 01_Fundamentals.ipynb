{
 "cells": [
  {
   "cell_type": "markdown",
   "metadata": {},
   "source": [
    "# Modules/packages/libraries\n",
    "\n",
    "Definitions:\n",
    "\n",
    "  * Modules:\n",
    "  A module is a file which contains python functions, global variables etc. It is nothing but .py file which has python executable code / statement.\n",
    "\n",
    "  * Packages:\n",
    "  A package is a namespace which contains multiple package/modules. It is a directory which contains a special file `__init__.py`\n",
    "  \n",
    "  * Libraries:\n",
    "  A library is a collection of various packages. There is no difference between package and python library conceptually.\n",
    "  \n",
    "Modules/packages/libraries can be easily \"imported\" and made functional in your python code. A set of libriaries comes with every python installation. Others can be installed locally and then imported. Your own code sitting somewhere else in your local computer can be imported too.\n",
    "\n",
    "Further details (very important!) on packages and how to create them can be found online. We may find the need of creating our own during the course."
   ]
  },
  {
   "cell_type": "code",
   "execution_count": 10,
   "metadata": {},
   "outputs": [
    {
     "name": "stdout",
     "output_type": "stream",
     "text": [
      "3.141592653589793\n",
      "3.141592653589793\n",
      "3.141592653589793\n"
     ]
    }
   ],
   "source": [
    "###### all the \"stuff\" that is in the math library can be used\n",
    "import math\n",
    "print(math.pi)\n",
    "\n",
    "# you can give math a label for convenience\n",
    "import math as m\n",
    "print (m.pi)\n",
    "\n",
    "# alternatively you can import only a given \"thing\" from the library\n",
    "from math import pi    #you can add several libraries at once, just list them separated by a \", \"\n",
    "print (pi)\n",
    "\n",
    "# or just get everything (very dangerous!!!)\n",
    "#from math import *\n",
    "#print (sqrt(7))"
   ]
  },
  {
   "cell_type": "markdown",
   "metadata": {},
   "source": [
    "To know which modules are there for you to use just type:"
   ]
  },
  {
   "cell_type": "code",
   "execution_count": 11,
   "metadata": {},
   "outputs": [
    {
     "name": "stdout",
     "output_type": "stream",
     "text": [
      "\n",
      "Please wait a moment while I gather a list of all available modules...\n",
      "\n"
     ]
    },
    {
     "name": "stderr",
     "output_type": "stream",
     "text": [
      "c:\\ProgramData\\Anaconda3\\envs\\complab\\lib\\pkgutil.py:92: UserWarning: The numpy.array_api submodule is still experimental. See NEP 47.\n",
      "  __import__(info.name)\n",
      "c:\\ProgramData\\Anaconda3\\envs\\complab\\lib\\site-packages\\_distutils_hack\\__init__.py:33: UserWarning: Setuptools is replacing distutils.\n",
      "  warnings.warn(\"Setuptools is replacing distutils.\")\n"
     ]
    },
    {
     "name": "stdout",
     "output_type": "stream",
     "text": [
      "IPython             certifi             math                stat\n",
      "PIL                 cffi                matplotlib          statistics\n",
      "__future__          cgi                 matplotlib_inline   string\n",
      "_abc                cgitb               mimetypes           stringprep\n",
      "_argon2_cffi_bindings charset_normalizer  mistune             struct\n",
      "_ast                chunk               mmap                subprocess\n",
      "_asyncio            cmath               mmapfile            sunau\n",
      "_bisect             cmd                 mmsystem            symbol\n",
      "_blake2             code                modulefinder        symtable\n",
      "_bootlocale         codecs              mpl_toolkits        sys\n",
      "_brotli             codeop              msilib              sysconfig\n",
      "_bz2                collections         msvcrt              tabnanny\n",
      "_cffi_backend       colorama            multiprocessing     tarfile\n",
      "_codecs             colorsys            nbclient            telnetlib\n",
      "_codecs_cn          comm                nbconvert           tempfile\n",
      "_codecs_hk          commctrl            nbformat            terminado\n",
      "_codecs_iso2022     compileall          nest_asyncio        test\n",
      "_codecs_jp          concurrent          netbios             textwrap\n",
      "_codecs_kr          configparser        netrc               this\n",
      "_codecs_tw          contextlib          nntplib             threading\n",
      "_collections        contextvars         notebook            time\n",
      "_collections_abc    contourpy           notebook_shim       timeit\n",
      "_compat_pickle      copy                nt                  timer\n",
      "_compression        copyreg             ntpath              tinycss2\n",
      "_contextvars        crypt               ntsecuritycon       tkinter\n",
      "_csv                csv                 nturl2path          token\n",
      "_ctypes             ctypes              numbers             tokenize\n",
      "_ctypes_test        curses              numpy               tomli\n",
      "_datetime           cycler              odbc                tornado\n",
      "_decimal            dataclasses         opcode              trace\n",
      "_distutils_hack     datetime            operator            traceback\n",
      "_dummy_thread       dateutil            optparse            tracemalloc\n",
      "_elementtree        dbi                 os                  traitlets\n",
      "_functools          dbm                 overrides           tty\n",
      "_hashlib            dde                 packaging           turtle\n",
      "_heapq              debugpy             pandas              turtledemo\n",
      "_imp                decimal             pandocfilters       types\n",
      "_io                 decorator           parser              typing\n",
      "_json               defusedxml          parso               typing_extensions\n",
      "_locale             difflib             pathlib             typing_utils\n",
      "_lsprof             dis                 pdb                 tzdata\n",
      "_lzma               distutils           perfmon             unicodedata\n",
      "_markupbase         doctest             pickle              unittest\n",
      "_md5                dummy_threading     pickleshare         uri_template\n",
      "_msi                email               pickletools         urllib\n",
      "_multibytecodec     encodings           pip                 urllib3\n",
      "_multiprocessing    ensurepip           pipes               uu\n",
      "_opcode             entrypoints         pkg_resources       uuid\n",
      "_operator           enum                pkgutil             venv\n",
      "_osx_support        erfa                pkgutil_resolve_name warnings\n",
      "_overlapped         errno               platform            wave\n",
      "_pickle             exceptiongroup      platformdirs        wcwidth\n",
      "_py_abc             executing           plistlib            weakref\n",
      "_pydecimal          fastjsonschema      poplib              webbrowser\n",
      "_pyio               faulthandler        posixpath           webcolors\n",
      "_queue              filecmp             pprint              webencodings\n",
      "_random             fileinput           profile             websocket\n",
      "_sha1               fnmatch             prometheus_client   wheel\n",
      "_sha256             fontTools           prompt_toolkit      widgetsnbextension\n",
      "_sha3               formatter           pstats              win2kras\n",
      "_sha512             fqdn                psutil              win32api\n",
      "_signal             fractions           pty                 win32clipboard\n",
      "_sitebuiltins       ftplib              pure_eval           win32com\n",
      "_socket             func_01             py_compile          win32con\n",
      "_sqlite3            functools           pyclbr              win32console\n",
      "_sre                gc                  pycparser           win32cred\n",
      "_ssl                genericpath         pydoc               win32crypt\n",
      "_stat               getopt              pydoc_data          win32cryptcon\n",
      "_statistics         getpass             pyexpat             win32event\n",
      "_string             gettext             pygments            win32evtlog\n",
      "_strptime           glob                pylab               win32evtlogutil\n",
      "_struct             gzip                pyparsing           win32file\n",
      "_symtable           hashlib             pythoncom           win32gui\n",
      "_testbuffer         heapq               pythonjsonlogger    win32gui_struct\n",
      "_testcapi           hmac                pytz                win32help\n",
      "_testconsole        html                pywin               win32inet\n",
      "_testimportmultiple http                pywin32_bootstrap   win32inetcon\n",
      "_testinternalcapi   idlelib             pywin32_testutil    win32job\n",
      "_testmultiphase     idna                pywintypes          win32lz\n",
      "_thread             imaplib             qtconsole           win32net\n",
      "_threading_local    imghdr              qtpy                win32netcon\n",
      "_tkinter            imp                 queue               win32pdh\n",
      "_tracemalloc        importlib           quopri              win32pdhquery\n",
      "_warnings           importlib_metadata  random              win32pdhutil\n",
      "_weakref            importlib_resources rasutil             win32pipe\n",
      "_weakrefset         inspect             re                  win32print\n",
      "_win32sysloader     io                  referencing         win32process\n",
      "_winapi             ipaddress           regcheck            win32profile\n",
      "_winxptheme         ipykernel           regutil             win32ras\n",
      "_xxsubinterpreters  ipykernel_launcher  reprlib             win32rcparser\n",
      "_yaml               ipython_genutils    requests            win32security\n",
      "abc                 ipywidgets          rfc3339_validator   win32service\n",
      "adodbapi            isapi               rfc3986_validator   win32serviceutil\n",
      "afxres              isoduration         rlcompleter         win32timezone\n",
      "aifc                itertools           rpds                win32trace\n",
      "aiosqlite           jedi                runpy               win32traceutil\n",
      "antigravity         jinja2              sched               win32transaction\n",
      "anyio               json                scipy               win32ts\n",
      "argon2              json5               seaborn             win32ui\n",
      "argparse            jsonpointer         secrets             win32uiole\n",
      "array               jsonschema          select              win32verstamp\n",
      "arrow               jsonschema_specifications selectors           win32wnet\n",
      "ast                 jupyter             send2trash          win_inet_pton\n",
      "astropy             jupyter_client      servicemanager      winerror\n",
      "asttokens           jupyter_collaboration setuptools          winioctlcon\n",
      "async_lru           jupyter_console     shelve              winnt\n",
      "asynchat            jupyter_core        shlex               winperf\n",
      "asyncio             jupyter_events      shutil              winpty\n",
      "asyncore            jupyter_lsp         signal              winreg\n",
      "atexit              jupyter_server      site                winsound\n",
      "attr                jupyter_server_fileid six                 winxpgui\n",
      "attrs               jupyter_server_terminals smtpd               winxptheme\n",
      "audioop             jupyter_ydoc        smtplib             wsgiref\n",
      "babel               jupyterlab          sndhdr              xdrlib\n",
      "backcall            jupyterlab_pygments sniffio             xml\n",
      "backports           jupyterlab_server   socket              xmlrpc\n",
      "base64              jupyterlab_widgets  socketserver        xxlimited\n",
      "bdb                 keras               socks               xxsubtype\n",
      "binascii            keyword             sockshandler        y_py\n",
      "binhex              kiwisolver          soupsieve           yaml\n",
      "bisect              lib2to3             sqlite3             ypy_websocket\n",
      "bleach              linecache           sre_compile         zipapp\n",
      "brotli              locale              sre_constants       zipfile\n",
      "bs4                 logging             sre_parse           zipimport\n",
      "builtins            lzma                ssl                 zipp\n",
      "bz2                 mailbox             sspi                zlib\n",
      "cProfile            mailcap             sspicon             zmq\n",
      "cached_property     markupsafe          stack_data          \n",
      "calendar            marshal             start_pythonwin     \n",
      "\n",
      "Enter any module name to get more help.  Or, type \"modules spam\" to search\n",
      "for modules whose name or summary contain the string \"spam\".\n",
      "\n",
      "None\n"
     ]
    }
   ],
   "source": [
    "print (help('modules') )\n"
   ]
  },
  {
   "cell_type": "markdown",
   "metadata": {},
   "source": [
    "`pip` is a special package. It is used from the command line to install properly (e.g. matching the version of the local packages) new packages. It can also be used from within python to check i.e. the set installed packages and their versions. N.B.: only the installed packages on top of the default ones will be listed "
   ]
  },
  {
   "cell_type": "code",
   "execution_count": 12,
   "metadata": {},
   "outputs": [
    {
     "name": "stdout",
     "output_type": "stream",
     "text": [
      "['aiosqlite==0.19.0', 'anyio==4.0.0', 'argon2-cffi-bindings==21.2.0', 'argon2-cffi==23.1.0', 'arrow==1.3.0', 'astropy==5.2.2', 'asttokens==2.4.0', 'async-lru==2.0.4', 'attrs==23.1.0', 'babel==2.12.1', 'backcall==0.2.0', 'backports.functools-lru-cache==1.6.5', 'beautifulsoup4==4.12.2', 'bleach==6.0.0', 'brotli==1.1.0', 'cached-property==1.5.2', 'certifi==2023.7.22', 'cffi==1.16.0', 'charset-normalizer==3.2.0', 'colorama==0.4.6', 'comm==0.1.4', 'contourpy==1.1.1', 'cycler==0.12.0', 'debugpy==1.8.0', 'decorator==5.1.1', 'defusedxml==0.7.1', 'entrypoints==0.4', 'exceptiongroup==1.1.3', 'executing==1.2.0', 'fastjsonschema==2.18.1', 'fonttools==4.43.0', 'fqdn==1.5.1', 'idna==3.4', 'importlib-metadata==6.8.0', 'importlib-resources==6.1.0', 'ipykernel==6.25.2', 'ipython-genutils==0.2.0', 'ipython==8.12.0', 'ipywidgets==8.1.1', 'isoduration==20.11.0', 'jedi==0.19.1', 'jinja2==3.1.2', 'json5==0.9.14', 'jsonpointer==2.4', 'jsonschema-specifications==2023.7.1', 'jsonschema==4.19.1', 'jupyter-client==8.3.1', 'jupyter-collaboration==1.2.0', 'jupyter-console==6.6.3', 'jupyter-core==5.3.2', 'jupyter-events==0.7.0', 'jupyter-lsp==2.2.0', 'jupyter-server-fileid==0.9.0', 'jupyter-server-terminals==0.4.4', 'jupyter-server==2.7.3', 'jupyter-ydoc==1.1.1', 'jupyter==1.0.0', 'jupyterlab-pygments==0.2.2', 'jupyterlab-server==2.25.0', 'jupyterlab-widgets==3.0.9', 'jupyterlab==4.0.6', 'keras==2.13.1', 'kiwisolver==1.4.5', 'markupsafe==2.1.3', 'matplotlib-inline==0.1.6', 'matplotlib==3.7.3', 'mistune==3.0.1', 'nbclient==0.8.0', 'nbconvert==7.8.0', 'nbformat==5.9.2', 'nest-asyncio==1.5.6', 'notebook-shim==0.2.3', 'notebook==7.0.4', 'numpy==1.24.4', 'overrides==7.4.0', 'packaging==23.2', 'pandas==2.0.3', 'pandocfilters==1.5.0', 'parso==0.8.3', 'pickleshare==0.7.5', 'pillow==10.0.1', 'pip==23.2.1', 'pkgutil-resolve-name==1.3.10', 'platformdirs==3.11.0', 'prometheus-client==0.17.1', 'prompt-toolkit==3.0.39', 'psutil==5.9.5', 'pure-eval==0.2.2', 'pycparser==2.21', 'pyerfa==2.0.0.3', 'pygments==2.16.1', 'pyparsing==3.1.1', 'pysocks==1.7.1', 'python-dateutil==2.8.2', 'python-json-logger==2.0.7', 'pytz==2023.3.post1', 'pywin32==306', 'pywinpty==2.0.11', 'pyyaml==6.0.1', 'pyzmq==25.1.1', 'qtconsole==5.4.4', 'qtpy==2.4.0', 'referencing==0.30.2', 'requests==2.31.0', 'rfc3339-validator==0.1.4', 'rfc3986-validator==0.1.1', 'rpds-py==0.10.3', 'scipy==1.10.1', 'seaborn==0.13.0', 'send2trash==1.8.2', 'setuptools==68.2.2', 'six==1.16.0', 'sniffio==1.3.0', 'soupsieve==2.5', 'stack-data==0.6.2', 'terminado==0.15.0', 'tinycss2==1.2.1', 'tomli==2.0.1', 'tornado==6.3.3', 'traitlets==5.11.2', 'types-python-dateutil==2.8.19.14', 'typing-extensions==4.8.0', 'typing-utils==0.1.0', 'tzdata==2023.3', 'uri-template==1.3.0', 'urllib3==2.0.5', 'wcwidth==0.2.8', 'webcolors==1.13', 'webencodings==0.5.1', 'websocket-client==1.6.3', 'wheel==0.41.2', 'widgetsnbextension==4.0.9', 'win-inet-pton==1.1.0', 'y-py==0.6.0', 'ypy-websocket==0.12.3', 'zipp==3.17.0']\n"
     ]
    }
   ],
   "source": [
    "try:\n",
    "    # this doesn't work anymore\n",
    "    import pip\n",
    "    sorted([\"%s==%s\" % (i.key, i.version) for i in pip._internal.utils.misc.get_installed_distributions()])\n",
    "\n",
    "except:\n",
    "    # use this instead\n",
    "    import pkg_resources\n",
    "    installed_packages = pkg_resources.working_set\n",
    "    installed_packages_list = sorted([\"%s==%s\" % (i.key, i.version)\n",
    "       for i in installed_packages])\n",
    "    print(installed_packages_list)\n"
   ]
  },
  {
   "cell_type": "markdown",
   "metadata": {},
   "source": [
    "# Functions"
   ]
  },
  {
   "cell_type": "code",
   "execution_count": 13,
   "metadata": {},
   "outputs": [
    {
     "name": "stdout",
     "output_type": "stream",
     "text": [
      "9\n",
      "27\n",
      "cube 27\n",
      "square 9\n"
     ]
    }
   ],
   "source": [
    "def square(x):\n",
    "    \"\"\"Square of x.\"\"\"\n",
    "    return x*x\n",
    "\n",
    "def cube(x):\n",
    "    \"\"\"Cube of x.\"\"\"\n",
    "    return x*x*x\n",
    "\n",
    "# create a dictionary of functions\n",
    "funcs = {\n",
    "    'square': square,\n",
    "    'cube': cube,\n",
    "}\n",
    "\n",
    "x = 3\n",
    "print(square(x))\n",
    "print(cube(x))\n",
    "\n",
    "for func in sorted(funcs):\n",
    "    print (func, funcs[func](x))"
   ]
  },
  {
   "cell_type": "markdown",
   "metadata": {},
   "source": [
    "## Functions arguments"
   ]
  },
  {
   "cell_type": "markdown",
   "metadata": {},
   "source": [
    "What is passsed to a function is a copy of the input. Imagine we have a list *x =[1, 2, 3]*, i.e. a mutable object. If within the function the content of *x* is directly changed (e.g. *x[0] = 999*), then *x* changes outside the funciton as well. "
   ]
  },
  {
   "cell_type": "code",
   "execution_count": 14,
   "metadata": {},
   "outputs": [
    {
     "name": "stdout",
     "output_type": "stream",
     "text": [
      "[1, 2, 3]\n",
      "[999, 2, 3]\n",
      "[999, 2, 3]\n"
     ]
    }
   ],
   "source": [
    "def modify(x):\n",
    "    x[0] = 999\n",
    "    return x\n",
    "\n",
    "x = [1,2,3]\n",
    "print (x)\n",
    "print (modify(x))\n",
    "print (x)"
   ]
  },
  {
   "cell_type": "markdown",
   "metadata": {},
   "source": [
    "However, if *x* is reassigned within the function to a new object (e.g. another list), then the copy of the name *x* now points to the new object, but *x* outside the function is unhcanged."
   ]
  },
  {
   "cell_type": "code",
   "execution_count": 15,
   "metadata": {},
   "outputs": [
    {
     "name": "stdout",
     "output_type": "stream",
     "text": [
      "[1, 2, 3]\n",
      "[4, 5, 6]\n",
      "[1, 2, 3]\n"
     ]
    }
   ],
   "source": [
    "def no_modify(x):\n",
    "    x = [4,5,6]\n",
    "    return x\n",
    "\n",
    "x = [1,2,3]\n",
    "print (x)\n",
    "print (no_modify(x))\n",
    "print (x)\n"
   ]
  },
  {
   "cell_type": "markdown",
   "metadata": {},
   "source": [
    "What if the function tries to modify the value of an immutable object?"
   ]
  },
  {
   "cell_type": "markdown",
   "metadata": {},
   "source": [
    "Binding of default arguments occurs at function definition:"
   ]
  },
  {
   "cell_type": "code",
   "execution_count": 16,
   "metadata": {},
   "outputs": [
    {
     "name": "stdout",
     "output_type": "stream",
     "text": [
      "[1]\n",
      "[1, 1]\n",
      "[9, 9, 9, 1]\n",
      "[1, 1, 1]\n",
      "[1, 1, 1, 1]\n"
     ]
    }
   ],
   "source": [
    "def f(x = []):\n",
    "    x.append(1)\n",
    "    return x\n",
    "\n",
    "print (f())\n",
    "print (f())\n",
    "print (f(x = [9,9,9]))\n",
    "print (f())\n",
    "print (f())"
   ]
  },
  {
   "cell_type": "markdown",
   "metadata": {},
   "source": [
    "Try to aviod that!!"
   ]
  },
  {
   "cell_type": "code",
   "execution_count": 17,
   "metadata": {},
   "outputs": [
    {
     "name": "stdout",
     "output_type": "stream",
     "text": [
      "[1]\n",
      "[1]\n",
      "[9, 9, 9, 1]\n",
      "[1]\n",
      "[1]\n"
     ]
    }
   ],
   "source": [
    "def f(x = None):\n",
    "    if x is None:\n",
    "        x = []\n",
    "    x.append(1)\n",
    "    return x\n",
    "\n",
    "print (f())\n",
    "print (f())\n",
    "print (f(x = [9,9,9]))\n",
    "print (f())\n",
    "print (f())"
   ]
  },
  {
   "cell_type": "markdown",
   "metadata": {},
   "source": [
    "## Higher order functions\n",
    "\n",
    "A function that uses another function as an input argument or returns a function is known as a higher-order function (HOF). The most familiar examples are `map` and `filter`."
   ]
  },
  {
   "cell_type": "markdown",
   "metadata": {},
   "source": [
    "### map\n",
    "\n",
    "The map function applies a function to each member of a collection"
   ]
  },
  {
   "cell_type": "code",
   "execution_count": 18,
   "metadata": {},
   "outputs": [
    {
     "name": "stdout",
     "output_type": "stream",
     "text": [
      "[0, 1, 4, 9, 16]\n",
      "0\n",
      "1\n",
      "4\n",
      "9\n",
      "16\n"
     ]
    },
    {
     "data": {
      "text/plain": [
       "[0, 1, 4, 9, 16, 25]"
      ]
     },
     "execution_count": 18,
     "metadata": {},
     "output_type": "execute_result"
    }
   ],
   "source": [
    "x = list(map(square, range(5))) \n",
    "print (x)\n",
    "\n",
    "# Note the difference w.r.t python 2. In python 3 map retuns an iterator so you can do stuff like:\n",
    "for i in map(square,range(5)): print(i)\n",
    "\n",
    "# or\n",
    "[i for i in map(square,range(6))]"
   ]
  },
  {
   "cell_type": "markdown",
   "metadata": {},
   "source": [
    "### filter\n",
    "\n",
    "The filter function applies a predicate to each member of a collection, retaining only those members where the predicate is True"
   ]
  },
  {
   "cell_type": "code",
   "execution_count": 19,
   "metadata": {},
   "outputs": [
    {
     "name": "stdout",
     "output_type": "stream",
     "text": [
      "[0, 2, 4]\n"
     ]
    }
   ],
   "source": [
    "def is_even(x):\n",
    "    return x%2 == 0\n",
    "\n",
    "print (list(filter(is_even, range(5))))"
   ]
  },
  {
   "cell_type": "markdown",
   "metadata": {},
   "source": [
    "Combinations in sequence of HOF are obviously possible"
   ]
  },
  {
   "cell_type": "code",
   "execution_count": 20,
   "metadata": {},
   "outputs": [
    {
     "data": {
      "text/plain": [
       "[0, 4, 16]"
      ]
     },
     "execution_count": 20,
     "metadata": {},
     "output_type": "execute_result"
    }
   ],
   "source": [
    "list(map(square, filter(is_even, range(5))))"
   ]
  },
  {
   "cell_type": "markdown",
   "metadata": {},
   "source": [
    "### reduce\n",
    "\n",
    "The reduce function reduces a collection using a binary operator to combine items two at a time. More often than not reduce can be substituted with a more efficient for loop. It is worth mentioning it for its key role in big-data applications together with map (the map-reduce paradigm). \n",
    "N.B.: it no loger exist as built-in function in python 3, it is now part of the `functools` library"
   ]
  },
  {
   "cell_type": "code",
   "execution_count": 21,
   "metadata": {},
   "outputs": [
    {
     "data": {
      "text/plain": [
       "15"
      ]
     },
     "execution_count": 21,
     "metadata": {},
     "output_type": "execute_result"
    }
   ],
   "source": [
    "from functools import reduce\n",
    "\n",
    "def my_add(x, y):\n",
    "    return x + y\n",
    "\n",
    "# another implementation of the sum function\n",
    "reduce(my_add, [1,2,3,4,5])"
   ]
  },
  {
   "cell_type": "markdown",
   "metadata": {},
   "source": [
    "### zip\n",
    "\n",
    "zip is useful when you need to iterate over matched elements of multiple lists"
   ]
  },
  {
   "cell_type": "code",
   "execution_count": 22,
   "metadata": {},
   "outputs": [
    {
     "name": "stdout",
     "output_type": "stream",
     "text": [
      "1 10 a\n",
      "2 20 b\n",
      "3 30 c\n"
     ]
    }
   ],
   "source": [
    "xs = [1, 2, 3, 4]\n",
    "ys = [10, 20, 30, 40]\n",
    "zs = ['a', 'b', 'c',]\n",
    "\n",
    "for x, y, z in zip(xs, ys, zs):\n",
    "    print (x, y, z)"
   ]
  },
  {
   "cell_type": "markdown",
   "metadata": {},
   "source": [
    "### Custom HOF"
   ]
  },
  {
   "cell_type": "code",
   "execution_count": 23,
   "metadata": {},
   "outputs": [
    {
     "name": "stdout",
     "output_type": "stream",
     "text": [
      "30\n",
      "100\n"
     ]
    }
   ],
   "source": [
    "def custom_sum(xs, transform):\n",
    "    \"\"\"Returns the sum of xs after a user specified transform.\"\"\"\n",
    "    return sum(map(transform, xs))\n",
    "\n",
    "xs = range(5)\n",
    "print (custom_sum(xs, square))\n",
    "print (custom_sum(xs, cube))\n",
    "\n"
   ]
  },
  {
   "cell_type": "markdown",
   "metadata": {},
   "source": [
    "### Returning a function"
   ]
  },
  {
   "cell_type": "code",
   "execution_count": 24,
   "metadata": {},
   "outputs": [],
   "source": [
    "def make_logger(target):\n",
    "    def logger(data):\n",
    "        with open(target, 'a') as f:\n",
    "            f.write(data + '\\n')\n",
    "    return logger\n",
    "\n",
    "foo_logger = make_logger('foo.txt') #foo.txt will be created if not there already\n",
    "foo_logger('Hello')\n",
    "foo_logger('World')"
   ]
  },
  {
   "cell_type": "code",
   "execution_count": 25,
   "metadata": {},
   "outputs": [
    {
     "name": "stdout",
     "output_type": "stream",
     "text": [
      "Hello\n",
      "World\n"
     ]
    }
   ],
   "source": [
    "! cat 'foo.txt'"
   ]
  },
  {
   "cell_type": "markdown",
   "metadata": {},
   "source": [
    "## Anonimous functions (lambda)\n",
    "\n",
    "When using functional style, there is often the need to create specific functions that perform a limited task as input to a HOF such as map or filter. In such cases, these functions are often written as anonymous or lambda functions. \n",
    "The syntax is as follows:\n",
    "\n",
    "lambda *arguments* : *expression*\n",
    "\n",
    "\n",
    "If you find it hard to understand what a lambda function is doing, it should probably be rewritten as a regular function."
   ]
  },
  {
   "cell_type": "code",
   "execution_count": 26,
   "metadata": {},
   "outputs": [
    {
     "data": {
      "text/plain": [
       "7"
      ]
     },
     "execution_count": 26,
     "metadata": {},
     "output_type": "execute_result"
    }
   ],
   "source": [
    "suml = lambda x,y: x+y\n",
    "suml(3,4)"
   ]
  },
  {
   "cell_type": "code",
   "execution_count": 27,
   "metadata": {},
   "outputs": [
    {
     "data": {
      "text/plain": [
       "7"
      ]
     },
     "execution_count": 27,
     "metadata": {},
     "output_type": "execute_result"
    }
   ],
   "source": [
    "(lambda x,y: x+y)(3,4)"
   ]
  },
  {
   "cell_type": "code",
   "execution_count": 28,
   "metadata": {},
   "outputs": [
    {
     "name": "stdout",
     "output_type": "stream",
     "text": [
      "0\n",
      "1\n",
      "4\n",
      "9\n",
      "16\n"
     ]
    }
   ],
   "source": [
    "for i in map(lambda x: x*x, range(5)): print (i)"
   ]
  },
  {
   "cell_type": "code",
   "execution_count": 29,
   "metadata": {},
   "outputs": [
    {
     "name": "stdout",
     "output_type": "stream",
     "text": [
      "285\n"
     ]
    }
   ],
   "source": [
    "# what does this function do?\n",
    "from functools import reduce\n",
    "s1 = reduce(lambda x, y: x+y, map(lambda x: x**2, range(1,10)))\n",
    "print(s1)\n"
   ]
  },
  {
   "cell_type": "markdown",
   "metadata": {},
   "source": [
    "## Recursive functions "
   ]
  },
  {
   "cell_type": "code",
   "execution_count": 30,
   "metadata": {},
   "outputs": [
    {
     "name": "stdout",
     "output_type": "stream",
     "text": [
      "[1, 1, 2, 3, 5, 8, 13, 21, 34, 55]\n"
     ]
    }
   ],
   "source": [
    "def fib1(n):\n",
    "    \"\"\"Fib with recursion.\"\"\"\n",
    "\n",
    "    # base case\n",
    "    if n==0 or n==1:\n",
    "        return 1\n",
    "    # recursive case\n",
    "    else:\n",
    "        return fib1(n-1) + fib1(n-2)\n",
    "\n",
    "    \n",
    "print ([fib1(i) for i in range(10)])"
   ]
  },
  {
   "cell_type": "code",
   "execution_count": 31,
   "metadata": {},
   "outputs": [
    {
     "name": "stdout",
     "output_type": "stream",
     "text": [
      "[1, 1, 2, 3, 5, 8, 13, 21, 34, 55]\n"
     ]
    }
   ],
   "source": [
    "# In Python, a more efficient version that does not use recursion is\n",
    "\n",
    "def fib2(n):\n",
    "    \"\"\"Fib without recursion.\"\"\"\n",
    "    a, b = 0, 1\n",
    "    for i in range(1, n+1):\n",
    "        a, b = b, a+b\n",
    "    return b\n",
    "\n",
    "print ([fib2(i) for i in range(10)])"
   ]
  },
  {
   "cell_type": "code",
   "execution_count": 32,
   "metadata": {},
   "outputs": [
    {
     "name": "stdout",
     "output_type": "stream",
     "text": [
      "4.96 ms ± 1.26 ms per loop (mean ± std. dev. of 7 runs, 100 loops each)\n",
      "1.47 µs ± 194 ns per loop (mean ± std. dev. of 7 runs, 1,000,000 loops each)\n"
     ]
    }
   ],
   "source": [
    "# check indeed the timing:\n",
    "\n",
    "%timeit fib1(20)\n",
    "%timeit fib2(20)\n"
   ]
  },
  {
   "cell_type": "markdown",
   "metadata": {},
   "source": [
    "## Iterators\n",
    "\n",
    "Iterators represent streams of values. Because only one value is consumed at a time, they use very little memory. Use of iterators is very helpful for working with data sets too large to fit into RAM."
   ]
  },
  {
   "cell_type": "code",
   "execution_count": 33,
   "metadata": {},
   "outputs": [
    {
     "name": "stdout",
     "output_type": "stream",
     "text": [
      "1\n",
      "2\n",
      "3\n"
     ]
    }
   ],
   "source": [
    "# Iterators can be created from sequences with the built-in function iter()\n",
    "\n",
    "xs = [1,2,3]\n",
    "x_iter = iter(xs)\n",
    "\n",
    "print(next(x_iter))\n",
    "print(next(x_iter))\n",
    "print(next(x_iter))\n",
    "# print(next(x_iter))"
   ]
  },
  {
   "cell_type": "code",
   "execution_count": 34,
   "metadata": {},
   "outputs": [
    {
     "name": "stdout",
     "output_type": "stream",
     "text": [
      "1\n",
      "2\n",
      "3\n"
     ]
    }
   ],
   "source": [
    "# Most commonly, iterators are used (automatically) within a for loop\n",
    "# which terminates when it encounters a StopIteration exception\n",
    "\n",
    "x_iter = iter(xs)\n",
    "for x in x_iter:\n",
    "    print (x)"
   ]
  },
  {
   "cell_type": "markdown",
   "metadata": {},
   "source": [
    "## More on comprehensions"
   ]
  },
  {
   "cell_type": "code",
   "execution_count": 35,
   "metadata": {},
   "outputs": [
    {
     "name": "stdout",
     "output_type": "stream",
     "text": [
      "<generator object <genexpr> at 0x000001EAC5F25AC0>\n",
      "[0, 1, 4, 9, 16, 25, 36, 49, 64, 81]\n",
      "{0, 1, 2, 3, 4, 5, 6, 7, 8, 9}\n",
      "{0: 'x', 1: 'x', 2: 'x', 3: 'x', 4: 'x', 5: 'x', 6: 'x', 7: 'x', 8: 'x', 9: 'x'}\n"
     ]
    }
   ],
   "source": [
    "# A generator expression\n",
    "\n",
    "print ((x for x in range(10)))\n",
    "\n",
    "# A list comprehesnnion\n",
    "\n",
    "print ([x**2 for x in range(10)])\n",
    "\n",
    "# A set comprehension\n",
    "\n",
    "print ({x for x in range(10)})\n",
    "\n",
    "# A dictionary comprehension\n",
    "\n",
    "print ({x: \"x\" for x in range(10)})"
   ]
  },
  {
   "cell_type": "markdown",
   "metadata": {},
   "source": [
    "## Useful Modules\n",
    "\n",
    "You may want to have a look at the content of the following modules for further usage of (HO) functions:\n",
    "  - [operator](https://docs.python.org/3/library/operator.html)\n",
    "  - [functools](https://docs.python.org/3/library/functools.html)\n",
    "  - [itertools](https://docs.python.org/3/library/itertools.html)\n",
    "  - [toolz](https://pypi.org/project/toolz/)\n",
    "  - [funcy](https://pypi.org/project/funcy/)"
   ]
  },
  {
   "cell_type": "markdown",
   "metadata": {},
   "source": [
    "## Decorators\n",
    "\n",
    "Decorators are a type of HOF that take a function and return a wrapped function that provides additional useful properties.\n",
    "\n",
    "Examples:\n",
    "\n",
    "  - logging\n",
    "  - profiling\n",
    "  - Just-In-Time (JIT) compilation"
   ]
  },
  {
   "cell_type": "code",
   "execution_count": 36,
   "metadata": {},
   "outputs": [],
   "source": [
    "def my_decorator(func):\n",
    "    def wrapper():\n",
    "        print(\"Something is happening before the function is called.\")\n",
    "        func()\n",
    "        print(\"Something is happening after the function is called.\")\n",
    "    return wrapper\n",
    "\n",
    "def say_whee():\n",
    "    print(\"Whee!\")\n",
    "\n",
    "say_whee = my_decorator(say_whee)"
   ]
  },
  {
   "cell_type": "code",
   "execution_count": 37,
   "metadata": {},
   "outputs": [
    {
     "name": "stdout",
     "output_type": "stream",
     "text": [
      "Something is happening before the function is called.\n",
      "Whee!\n",
      "Something is happening after the function is called.\n"
     ]
    }
   ],
   "source": [
    "say_whee()"
   ]
  },
  {
   "cell_type": "markdown",
   "metadata": {},
   "source": [
    "Python allows you to use decorators in a simpler way with the @ symbol, sometimes called the “pie” syntax"
   ]
  },
  {
   "cell_type": "code",
   "execution_count": 38,
   "metadata": {},
   "outputs": [],
   "source": [
    "def my_decorator(func):\n",
    "    def wrapper():\n",
    "        print(\"Something is happening before the function is called.\")\n",
    "        func()\n",
    "        print(\"Something is happening after the function is called.\")\n",
    "    return wrapper\n",
    "\n",
    "@my_decorator\n",
    "def say_whee():\n",
    "    print(\"Whee!\")"
   ]
  },
  {
   "cell_type": "code",
   "execution_count": 39,
   "metadata": {},
   "outputs": [
    {
     "name": "stdout",
     "output_type": "stream",
     "text": [
      "Something is happening before the function is called.\n",
      "Whee!\n",
      "Something is happening after the function is called.\n"
     ]
    }
   ],
   "source": [
    "say_whee()"
   ]
  },
  {
   "cell_type": "markdown",
   "metadata": {},
   "source": [
    "# Classes and Objects\n",
    "\n",
    "Old school object-oriented programming is possible and often used in python. Classes are defined similarly to standard object-oriented languages, with similar functionalities.\n",
    "\n",
    "The main python doc [page](https://docs.python.org/3/tutorial/classes.html) is worth reading through "
   ]
  },
  {
   "cell_type": "code",
   "execution_count": 40,
   "metadata": {},
   "outputs": [
    {
     "name": "stdout",
     "output_type": "stream",
     "text": [
      "buddy 12\n",
      "3\n"
     ]
    }
   ],
   "source": [
    "class Pet:\n",
    "    # the \"constructor\"\n",
    "    def __init__(self, name, age):  #inizialize the elements of the class\n",
    "        self.name=name\n",
    "        self.age=age\n",
    "    # class functions take the \"self\" parameter !!!\n",
    "    def set_name(self,name):\n",
    "        self.name=name\n",
    "    def convert_age(self,factor):\n",
    "        self.age*=factor\n",
    "\n",
    "buddy=Pet(\"buddy\",12)\n",
    "print (buddy.name, buddy.age)\n",
    "buddy.age=3\n",
    "print (buddy.age)\n",
    "\n"
   ]
  },
  {
   "cell_type": "code",
   "execution_count": 41,
   "metadata": {},
   "outputs": [
    {
     "name": "stdout",
     "output_type": "stream",
     "text": [
      "tobia\n",
      "70\n"
     ]
    }
   ],
   "source": [
    "# ineritance is straightforward\n",
    "class Dog(Pet):\n",
    "    # the following variables is \"global\", i.e. holds for all \"Dog\" objects\n",
    "    species = \"mammal\"\n",
    "    # functions can be redefined as usual\n",
    "    def convert_age(self):\n",
    "        self.age*=7\n",
    "    def set_species(self, species):\n",
    "        self.species = species\n",
    "        \n",
    "puppy=Dog(\"tobia\",10)\n",
    "print(puppy.name)\n",
    "puppy.convert_age()\n",
    "print(puppy.age)\n",
    "\n"
   ]
  },
  {
   "cell_type": "code",
   "execution_count": null,
   "metadata": {},
   "outputs": [],
   "source": []
  }
 ],
 "metadata": {
  "kernelspec": {
   "display_name": "complab_env",
   "language": "python",
   "name": "complab"
  },
  "language_info": {
   "codemirror_mode": {
    "name": "ipython",
    "version": 3
   },
   "file_extension": ".py",
   "mimetype": "text/x-python",
   "name": "python",
   "nbconvert_exporter": "python",
   "pygments_lexer": "ipython3",
   "version": "3.8.17"
  }
 },
 "nbformat": 4,
 "nbformat_minor": 2
}
