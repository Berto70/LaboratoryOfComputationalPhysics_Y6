{
 "cells": [
  {
   "cell_type": "markdown",
   "metadata": {},
   "source": [
    "1. The MickeyMouse problem\n",
    "\n",
    "a) Write a program that prints the numbers from 1 to 100. But for multiples of 3 print `Mickey` instead of the corresponding number and for the multiples of 5 print `Mouse`. For numbers which are multiples of both three and five print `MickeyMouse`"
   ]
  },
  {
   "cell_type": "code",
   "execution_count": 16,
   "metadata": {},
   "outputs": [
    {
     "name": "stdout",
     "output_type": "stream",
     "text": [
      "[1, 2, 'Mickey', 4, 'Mouse', 'Mickey', 7, 8, 'Mickey', 'Mouse', 11, 'Mickey', 13, 14, 'MickeyMouse', 16, 17, 'Mickey', 19, 'Mouse', 'Mickey', 22, 23, 'Mickey', 'Mouse', 26, 'Mickey', 28, 29, 'MickeyMouse', 31, 32, 'Mickey', 34, 'Mouse', 'Mickey', 37, 38, 'Mickey', 'Mouse', 41, 'Mickey', 43, 44, 'MickeyMouse', 46, 47, 'Mickey', 49, 'Mouse', 'Mickey', 52, 53, 'Mickey', 'Mouse', 56, 'Mickey', 58, 59, 'MickeyMouse', 61, 62, 'Mickey', 64, 'Mouse', 'Mickey', 67, 68, 'Mickey', 'Mouse', 71, 'Mickey', 73, 74, 'MickeyMouse', 76, 77, 'Mickey', 79, 'Mouse', 'Mickey', 82, 83, 'Mickey', 'Mouse', 86, 'Mickey', 88, 89, 'MickeyMouse', 91, 92, 'Mickey', 94, 'Mouse', 'Mickey', 97, 98, 'Mickey', 'Mouse']\n"
     ]
    }
   ],
   "source": [
    "a_list = []\n",
    "for i in range(1, 101):\n",
    "    if i % 15 == 0:\n",
    "        a_list.append(\"MickeyMouse\")\n",
    "    elif i % 5 == 0:\n",
    "        a_list.append(\"Mouse\")\n",
    "    elif i % 3 == 0:\n",
    "        a_list.append(\"Mickey\")\n",
    "    else:\n",
    "        a_list.append(i)\n",
    "\n",
    "print(a_list)"
   ]
  },
  {
   "cell_type": "markdown",
   "metadata": {},
   "source": [
    "b) Put the result in a tuple and substitute `Mickey` with `Donald` and `Mouse` with `Duck`"
   ]
  },
  {
   "cell_type": "code",
   "execution_count": 19,
   "metadata": {},
   "outputs": [
    {
     "name": "stdout",
     "output_type": "stream",
     "text": [
      "('DonaldDuck', 'DonaldDuck', 'Donald', 'DonaldDuck', 'Duck', 'Donald', 'DonaldDuck', 'DonaldDuck', 'Donald', 'Duck', 'DonaldDuck', 'Donald', 'DonaldDuck', 'DonaldDuck', 'DonaldDuck', 'DonaldDuck', 'DonaldDuck', 'Donald', 'DonaldDuck', 'Duck', 'Donald', 'DonaldDuck', 'DonaldDuck', 'Donald', 'Duck', 'DonaldDuck', 'Donald', 'DonaldDuck', 'DonaldDuck', 'DonaldDuck', 'DonaldDuck', 'DonaldDuck', 'Donald', 'DonaldDuck', 'Duck', 'Donald', 'DonaldDuck', 'DonaldDuck', 'Donald', 'Duck', 'DonaldDuck', 'Donald', 'DonaldDuck', 'DonaldDuck', 'DonaldDuck', 'DonaldDuck', 'DonaldDuck', 'Donald', 'DonaldDuck', 'Duck', 'Donald', 'DonaldDuck', 'DonaldDuck', 'Donald', 'Duck', 'DonaldDuck', 'Donald', 'DonaldDuck', 'DonaldDuck', 'DonaldDuck', 'DonaldDuck', 'DonaldDuck', 'Donald', 'DonaldDuck', 'Duck', 'Donald', 'DonaldDuck', 'DonaldDuck', 'Donald', 'Duck', 'DonaldDuck', 'Donald', 'DonaldDuck', 'DonaldDuck', 'DonaldDuck', 'DonaldDuck', 'DonaldDuck', 'Donald', 'DonaldDuck', 'Duck', 'Donald', 'DonaldDuck', 'DonaldDuck', 'Donald', 'Duck', 'DonaldDuck', 'Donald', 'DonaldDuck', 'DonaldDuck', 'DonaldDuck', 'DonaldDuck', 'DonaldDuck', 'Donald', 'DonaldDuck', 'Duck', 'Donald', 'DonaldDuck', 'DonaldDuck', 'Donald', 'Duck')\n"
     ]
    }
   ],
   "source": [
    "a_list = []\n",
    "for i in range(1, 101):\n",
    "    if i % 15 == 0:\n",
    "        a_list.append(\"MickeyMouse\")\n",
    "    elif i % 5 == 0:\n",
    "        a_list.append(\"Mouse\")\n",
    "    elif i % 3 == 0:\n",
    "        a_list.append(\"Mickey\")\n",
    "    else:\n",
    "        a_list.append(i)\n",
    "\n",
    "for j in range(len(a_list)):\n",
    "    if a_list[j]==\"Mickey\":\n",
    "        a_list[j] = \"Donald\"\n",
    "\n",
    "    elif a_list[j]==\"Mouse\":\n",
    "        a_list[j] = \"Duck\"\n",
    "\n",
    "    else:\n",
    "        # pass\n",
    "        a_list[j] = \"DonaldDuck\"\n",
    "    \n",
    "print(tuple(a_list))"
   ]
  },
  {
   "cell_type": "code",
   "execution_count": 18,
   "metadata": {},
   "outputs": [
    {
     "name": "stdout",
     "output_type": "stream",
     "text": [
      "(1, 2, 'Donald', 4, 'Duck', 'Donald', 7, 8, 'Donald', 'Duck', 11, 'Donald', 13, 14, 'DonaldDuck', 16, 17, 'Donald', 19, 'Duck', 'Donald', 22, 23, 'Donald', 'Duck', 26, 'Donald', 28, 29, 'DonaldDuck', 31, 32, 'Donald', 34, 'Duck', 'Donald', 37, 38, 'Donald', 'Duck', 41, 'Donald', 43, 44, 'DonaldDuck', 46, 47, 'Donald', 49, 'Duck', 'Donald', 52, 53, 'Donald', 'Duck', 56, 'Donald', 58, 59, 'DonaldDuck', 61, 62, 'Donald', 64, 'Duck', 'Donald', 67, 68, 'Donald', 'Duck', 71, 'Donald', 73, 74, 'DonaldDuck', 76, 77, 'Donald', 79, 'Duck', 'Donald', 82, 83, 'Donald', 'Duck', 86, 'Donald', 88, 89, 'DonaldDuck', 91, 92, 'Donald', 94, 'Duck', 'Donald', 97, 98, 'Donald', 'Duck')\n"
     ]
    }
   ],
   "source": [
    "# method 2 - tuple comprehension \n",
    "a_tuple = tuple(val.replace('Mickey', 'Donald').replace('Mouse', 'Duck') if isinstance(val, str) else val for val in a_list)\n",
    "print(a_tuple)"
   ]
  },
  {
   "cell_type": "markdown",
   "metadata": {},
   "source": [
    "2\\. The swap function\n",
    "\n",
    "Write a function that swap the values of two input variables x and y (whatever the type). Try to do that also without a temporary variable"
   ]
  },
  {
   "cell_type": "code",
   "execution_count": 40,
   "metadata": {},
   "outputs": [
    {
     "name": "stdout",
     "output_type": "stream",
     "text": [
      "x_i = (\"pippo, [12, \"paperino\"]) y_i = 12.22 \n",
      " x_f = 12.22 y_f = (\"pippo, [12, \"paperino\"])\n"
     ]
    },
    {
     "data": {
      "text/plain": [
       "('12.22', '(\"pippo, [12, \"paperino\"])')"
      ]
     },
     "execution_count": 40,
     "metadata": {},
     "output_type": "execute_result"
    }
   ],
   "source": [
    "# method 1\n",
    "\n",
    "x = input(\"x_i = \")\n",
    "y = input(\"y_i = \")\n",
    "\n",
    "def swap(x, y):\n",
    "    # global x, y   \n",
    "    print (\"x_i =\", x, \"y_i =\", y,'\\n',\"x_f =\", y, \"y_f =\", x)\n",
    "\n",
    "# method 2\n",
    "def swap_temp(x, y):\n",
    "    # Swap values using a temporary variable\n",
    "    temp = x\n",
    "    x = y\n",
    "    y = temp\n",
    "    return x, y\n",
    "\n",
    "# method 3\n",
    "def swap_wo_temp(x, y):\n",
    "    # Swap values without using a temporary variable\n",
    "    x, y = y, x\n",
    "    return x, y\n",
    "\n",
    "swap(x, y)\n",
    "# swap_temp(x, y)\n",
    "swap_wo_temp(x, y)"
   ]
  },
  {
   "cell_type": "markdown",
   "metadata": {},
   "source": [
    "3\\. Computing the distance\n",
    "\n",
    "Write a function that calculates and returns the euclidean distance between two points *u* and *v*, where *u* and *v* are both 2-tuples *(x,y)*. For example, if *u=(3,0)* and *v=(0,4)*, the function should return 5"
   ]
  },
  {
   "cell_type": "code",
   "execution_count": 5,
   "metadata": {},
   "outputs": [
    {
     "data": {
      "text/plain": [
       "('The Euclidean distance is', 5.0)"
      ]
     },
     "execution_count": 5,
     "metadata": {},
     "output_type": "execute_result"
    }
   ],
   "source": [
    "u_in = input('Enter space-separated integers: ')\n",
    "u = tuple(float(item) for item in u_in.split())\n",
    "\n",
    "v_in = input('Enter space-separated integers: ')\n",
    "v = tuple(float(item) for item in v_in.split())\n",
    "\n",
    "def distance(u, v):\n",
    "    u_1, u_2 = u[0], u[1]\n",
    "    v_1, v_2 = v[0], v[1]\n",
    "    return \"The Euclidean distance is\", round(((u_2-u_1)**2 + (v_2-v_1)**2)**0.5, 3)\n",
    "\n",
    "distance(u, v)"
   ]
  },
  {
   "cell_type": "markdown",
   "metadata": {},
   "source": [
    "4\\. Counting letters\n",
    "\n",
    "Write a program to calculate the number of times each character occurs in a given string *s*. Ignore differneces in capitalization"
   ]
  },
  {
   "cell_type": "code",
   "execution_count": 14,
   "metadata": {},
   "outputs": [
    {
     "name": "stdout",
     "output_type": "stream",
     "text": [
      "{'a': 7, 'b': 5, 'c': 3, 'd': 3, 'e': 22, 'f': 10, 'g': 1, 'h': 9, 'i': 14, 'k': 2, 'l': 6, 'm': 12, 'n': 10, 'o': 13, 'p': 8, 'r': 17, 's': 9, 't': 19, 'u': 9, 'v': 2, 'w': 2, 'y': 2}\n"
     ]
    }
   ],
   "source": [
    "s=\"Write a program that prints the numbers from 1 to 100. \\\n",
    "But for multiples of three print Mickey instead of the number and for the multiples of five print Mouse. \\\n",
    "For numbers which are multiples of both three and five print MickeyMouse\"\n",
    "\n",
    "def count_chars(s):\n",
    "    # Convert the string to lowercase\n",
    "    s = s.lower()\n",
    "\n",
    "    # Initialize a dictionary to store the character counts\n",
    "    char_counts = {}\n",
    "\n",
    "    # Loop over the characters in the string\n",
    "    for char in s:\n",
    "        # Ignore non-alphabetic characters\n",
    "        if not char.isalpha():\n",
    "            continue\n",
    "\n",
    "        # Increment the count\n",
    "        if char in char_counts:\n",
    "            char_counts[char] += 1\n",
    "        else:\n",
    "            char_counts[char] = 1\n",
    "\n",
    "    # Return the character counts\n",
    "    # return char_counts\n",
    "    myKeys = list(char_counts.keys())\n",
    "    myKeys.sort()\n",
    "    sorted_char_count = {i: char_counts[i] for i in myKeys}\n",
    "\n",
    "    return sorted_char_count\n",
    "\n",
    "a = count_chars(s)\n",
    "print(a)"
   ]
  },
  {
   "cell_type": "markdown",
   "metadata": {},
   "source": [
    "5\\. Isolating the unique\n",
    "\n",
    "Write a function that determines and count the unique numbers in the list *l*"
   ]
  },
  {
   "cell_type": "code",
   "execution_count": 16,
   "metadata": {},
   "outputs": [
    {
     "data": {
      "text/plain": [
       "{1: 1,\n",
       " 3: 2,\n",
       " 5: 1,\n",
       " 8: 1,\n",
       " 9: 1,\n",
       " 10: 1,\n",
       " 16: 1,\n",
       " 18: 1,\n",
       " 19: 1,\n",
       " 20: 3,\n",
       " 24: 1,\n",
       " 30: 1,\n",
       " 31: 2,\n",
       " 33: 1,\n",
       " 34: 2,\n",
       " 36: 3,\n",
       " 37: 1,\n",
       " 39: 1,\n",
       " 41: 1,\n",
       " 42: 2,\n",
       " 45: 3,\n",
       " 47: 1,\n",
       " 50: 2,\n",
       " 51: 3,\n",
       " 53: 1,\n",
       " 54: 1,\n",
       " 55: 1,\n",
       " 56: 2,\n",
       " 57: 1,\n",
       " 58: 1,\n",
       " 63: 2,\n",
       " 64: 1,\n",
       " 66: 2,\n",
       " 70: 3,\n",
       " 72: 1,\n",
       " 74: 1,\n",
       " 75: 1,\n",
       " 79: 1,\n",
       " 81: 1,\n",
       " 82: 1,\n",
       " 84: 4,\n",
       " 85: 3,\n",
       " 86: 1,\n",
       " 87: 1,\n",
       " 88: 1,\n",
       " 89: 2,\n",
       " 90: 1,\n",
       " 91: 3,\n",
       " 92: 1,\n",
       " 94: 1,\n",
       " 95: 1,\n",
       " 96: 1,\n",
       " 98: 1,\n",
       " 99: 1}"
      ]
     },
     "execution_count": 16,
     "metadata": {},
     "output_type": "execute_result"
    }
   ],
   "source": [
    "l = [36, 45, 58, 3, 74, 96, 64, 45, 31, 10, 24, 19, 33, 86, 99, 18, 63, 70, 85,\n",
    " 85, 63, 47, 56, 42, 70, 84, 88, 55, 20, 54, 8, 56, 51, 79, 81, 57, 37, 91,\n",
    " 1, 84, 84, 36, 66, 9, 89, 50, 42, 91, 50, 95, 90, 98, 39, 16, 82, 31, 92, 41,\n",
    " 45, 30, 66, 70, 34, 85, 94, 5, 3, 36, 72, 91, 84, 34, 87, 75, 53, 51, 20, 89, 51, 20]\n",
    "\n",
    "def count_unique(l):\n",
    "    count = {}\n",
    "    for i in l:\n",
    "        if i in count:\n",
    "            count[i] += 1\n",
    "        else:\n",
    "            count[i] = 1\n",
    "    # return count\n",
    "    myKeys = list(count.keys())\n",
    "    myKeys.sort()\n",
    "    sorted_count = {i: count[i] for i in myKeys}\n",
    "\n",
    "    return sorted_count\n",
    "\n",
    "count_unique(l)"
   ]
  },
  {
   "cell_type": "markdown",
   "metadata": {},
   "source": [
    "6\\. Combination of functions\n",
    "\n",
    "Write two functions - one that returns the square of a number, and one that returns the cube. Now write a third function that returns the number raised to the 6th power using the two previous functions."
   ]
  },
  {
   "cell_type": "code",
   "execution_count": 3,
   "metadata": {},
   "outputs": [
    {
     "data": {
      "text/plain": [
       "64"
      ]
     },
     "execution_count": 3,
     "metadata": {},
     "output_type": "execute_result"
    }
   ],
   "source": [
    "def square(x):\n",
    "    return x**2\n",
    "\n",
    "def cube(x):\n",
    "    return x**3\n",
    "\n",
    "def power(x):\n",
    "    return cube(square(x))\n",
    "\n",
    "power(2)"
   ]
  },
  {
   "cell_type": "markdown",
   "metadata": {},
   "source": [
    "7\\. Cubes\n",
    "\n",
    "Create a list of the cubes of x for x in *[0, 10]* using:\n",
    "\n",
    "a) a for loop\n",
    "\n",
    "b) a list comprehension"
   ]
  },
  {
   "cell_type": "code",
   "execution_count": 5,
   "metadata": {},
   "outputs": [
    {
     "name": "stdout",
     "output_type": "stream",
     "text": [
      "a) [0, 1, 8, 27, 64, 125, 216, 343, 512, 729, 1000]\n",
      "b) [0, 1, 8, 27, 64, 125, 216, 343, 512, 729, 1000]\n"
     ]
    }
   ],
   "source": [
    "# method 1\n",
    "\n",
    "c_list = []\n",
    "for i in range (0,11):\n",
    "    c_list.append(cube(i))\n",
    "print(\"a)\", c_list)\n",
    "\n",
    "# method 2\n",
    "\n",
    "d_list = [cube(i) for i in range (0,11)]\n",
    "print(\"b)\", d_list)"
   ]
  },
  {
   "cell_type": "markdown",
   "metadata": {},
   "source": [
    "8\\. Nested list comprehension\n",
    "\n",
    "A Pythagorean triple is an integer solution to the Pythagorean theorem $a^2+b^2=c^2$. The first Pythagorean triple is (3,4,5). Find and put in a tuple all unique Pythagorean triples for the positive integers a, b and c less than 100."
   ]
  },
  {
   "cell_type": "code",
   "execution_count": 21,
   "metadata": {},
   "outputs": [
    {
     "name": "stdout",
     "output_type": "stream",
     "text": [
      "[(3, 4, 5), (5, 12, 13), (6, 8, 10), (7, 24, 25), (8, 15, 17), (9, 12, 15), (9, 40, 41), (10, 24, 26), (11, 60, 61), (12, 16, 20), (12, 35, 37), (13, 84, 85), (14, 48, 50), (15, 20, 25), (15, 36, 39), (16, 30, 34), (16, 63, 65), (18, 24, 30), (18, 80, 82), (20, 21, 29), (20, 48, 52), (21, 28, 35), (21, 72, 75), (24, 32, 40), (24, 45, 51), (24, 70, 74), (25, 60, 65), (27, 36, 45), (28, 45, 53), (30, 40, 50), (30, 72, 78), (32, 60, 68), (33, 44, 55), (33, 56, 65), (35, 84, 91), (36, 48, 60), (36, 77, 85), (39, 52, 65), (39, 80, 89), (40, 42, 58), (40, 75, 85), (42, 56, 70), (45, 60, 75), (48, 55, 73), (48, 64, 80), (51, 68, 85), (54, 72, 90), (57, 76, 95), (60, 63, 87), (65, 72, 97)]\n"
     ]
    }
   ],
   "source": [
    "# for i in range(1, 100):\n",
    "#     for j in range(i, 100):\n",
    "#         for k in range(j, 100):\n",
    "#             if i**2 + j**2 == k**2:\n",
    "#                 tupla = tuple(sorted((i, j, k)))\n",
    "#                 print(tupla)\n",
    "\n",
    "tupla = [tuple(sorted((i, j, k))) for i in range(1, 100) for j in range(i, 100) for k in range(j, 100) if i**2 + j**2 == k**2]\n",
    "print(tupla)"
   ]
  },
  {
   "cell_type": "markdown",
   "metadata": {},
   "source": [
    "9\\. Normalization\n",
    "\n",
    "Write a function that takes a tuple of numbers and returns it with the entries normalized to one"
   ]
  },
  {
   "cell_type": "code",
   "execution_count": 4,
   "metadata": {},
   "outputs": [
    {
     "name": "stdout",
     "output_type": "stream",
     "text": [
      "pre-norm: (1.0, 2.0, 3.0, 4.0)\n",
      "post-norm: (1.0, 1.0, 1.0, 1.0)\n"
     ]
    }
   ],
   "source": [
    "x_in = input('Enter space-separated integers: ')\n",
    "x = list(float(item) for item in x_in.split())\n",
    "print(\"pre-norm:\", tuple(x))\n",
    "\n",
    "def norm(x):\n",
    "    for i in range(len(x)):\n",
    "        x[i] = x[i]/x[i]\n",
    "    print (\"post-norm:\", tuple(x))\n",
    "    \n",
    "norm(x)"
   ]
  }
 ],
 "metadata": {
  "kernelspec": {
   "display_name": "complab_env",
   "language": "python",
   "name": "complab"
  },
  "language_info": {
   "codemirror_mode": {
    "name": "ipython",
    "version": 3
   },
   "file_extension": ".py",
   "mimetype": "text/x-python",
   "name": "python",
   "nbconvert_exporter": "python",
   "pygments_lexer": "ipython3",
   "version": "3.8.17"
  }
 },
 "nbformat": 4,
 "nbformat_minor": 2
}
