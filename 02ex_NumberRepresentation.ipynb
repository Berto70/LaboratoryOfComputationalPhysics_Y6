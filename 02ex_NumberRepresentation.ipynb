{
 "cells": [
  {
   "cell_type": "markdown",
   "metadata": {},
   "source": [
    "1\\. Write a function that converts number representation, bin<->dec<->hex. (Clearly using the corresponding python built-in functions is not fair..)"
   ]
  },
  {
   "cell_type": "markdown",
   "metadata": {},
   "source": [
    "2\\. Write a function that converts a 32 bit word into a single precision floating point (i.e. interprets the various bits as sign, mantissa and exponent)"
   ]
  },
  {
   "cell_type": "markdown",
   "metadata": {},
   "source": [
    "3\\. Write a program to determine the underflow and overflow limits (within a factor of 2) for python on your computer. \n",
    "\n",
    "**Tips**: define two variables inizialized to 1 and halve/double them enough time to exceed the under/over-flow limits  "
   ]
  },
  {
   "cell_type": "code",
   "execution_count": 6,
   "metadata": {},
   "outputs": [
    {
     "name": "stdout",
     "output_type": "stream",
     "text": [
      "a= 1.1\n",
      "a= 1.2100000000000002\n",
      "a= 1.7715610000000008\n",
      "a= 9.84973267580763\n",
      "a= 92709.06881783094\n",
      "a= 6.349409156065518e+29\n",
      "a= 4.160381892062108e+208\n",
      "\n",
      "Overflow error happened\n",
      "(34, 'Result too large'), <class 'OverflowError'>\n",
      "\n",
      "b= 0.9090909090909091\n",
      "b= 1.2100000000000002\n",
      "b= 0.5644739300537772\n",
      "b= 9.849732675807626\n",
      "b= 1.0786431281765497e-05\n",
      "b= 6.349409156065449e+29\n",
      "b= 2.4036254986784937e-209\n"
     ]
    },
    {
     "ename": "OverflowError",
     "evalue": "(34, 'Result too large')",
     "output_type": "error",
     "traceback": [
      "\u001b[1;31m---------------------------------------------------------------------------\u001b[0m",
      "\u001b[1;31mOverflowError\u001b[0m                             Traceback (most recent call last)",
      "\u001b[1;32mc:\\Users\\gabri\\OneDrive - Università degli Studi di Padova\\Desktop\\UNI\\Magistrale\\2023-2024\\comp_lab_a\\LaboratoryOfComputationalPhysics_Y6\\02ex_NumberRepresentation.ipynb Cell 4\u001b[0m line \u001b[0;36m1\n\u001b[0;32m     <a href='vscode-notebook-cell:/c%3A/Users/gabri/OneDrive%20-%20Universit%C3%A0%20degli%20Studi%20di%20Padova/Desktop/UNI/Magistrale/2023-2024/comp_lab_a/LaboratoryOfComputationalPhysics_Y6/02ex_NumberRepresentation.ipynb#X11sZmlsZQ%3D%3D?line=10'>11</a>\u001b[0m \u001b[39mtry\u001b[39;00m:\n\u001b[0;32m     <a href='vscode-notebook-cell:/c%3A/Users/gabri/OneDrive%20-%20Universit%C3%A0%20degli%20Studi%20di%20Padova/Desktop/UNI/Magistrale/2023-2024/comp_lab_a/LaboratoryOfComputationalPhysics_Y6/02ex_NumberRepresentation.ipynb#X11sZmlsZQ%3D%3D?line=11'>12</a>\u001b[0m     \u001b[39mfor\u001b[39;00m i \u001b[39min\u001b[39;00m \u001b[39mrange\u001b[39m(\u001b[39m1\u001b[39m, \u001b[39m1000\u001b[39m):\n\u001b[1;32m---> <a href='vscode-notebook-cell:/c%3A/Users/gabri/OneDrive%20-%20Universit%C3%A0%20degli%20Studi%20di%20Padova/Desktop/UNI/Magistrale/2023-2024/comp_lab_a/LaboratoryOfComputationalPhysics_Y6/02ex_NumberRepresentation.ipynb#X11sZmlsZQ%3D%3D?line=12'>13</a>\u001b[0m         b \u001b[39m=\u001b[39m b\u001b[39m*\u001b[39;49m\u001b[39m*\u001b[39;49m(\u001b[39m-\u001b[39;49mi)\n\u001b[0;32m     <a href='vscode-notebook-cell:/c%3A/Users/gabri/OneDrive%20-%20Universit%C3%A0%20degli%20Studi%20di%20Padova/Desktop/UNI/Magistrale/2023-2024/comp_lab_a/LaboratoryOfComputationalPhysics_Y6/02ex_NumberRepresentation.ipynb#X11sZmlsZQ%3D%3D?line=13'>14</a>\u001b[0m         \u001b[39mprint\u001b[39m(\u001b[39m'\u001b[39m\u001b[39mb=\u001b[39m\u001b[39m'\u001b[39m,b)\n\u001b[0;32m     <a href='vscode-notebook-cell:/c%3A/Users/gabri/OneDrive%20-%20Universit%C3%A0%20degli%20Studi%20di%20Padova/Desktop/UNI/Magistrale/2023-2024/comp_lab_a/LaboratoryOfComputationalPhysics_Y6/02ex_NumberRepresentation.ipynb#X11sZmlsZQ%3D%3D?line=14'>15</a>\u001b[0m \u001b[39mexcept\u001b[39;00m \u001b[39mZeroDivisionError\u001b[39;00m \u001b[39mas\u001b[39;00m e:\n",
      "\u001b[1;31mOverflowError\u001b[0m: (34, 'Result too large')"
     ]
    }
   ],
   "source": [
    "a = 1.1 #overflow\n",
    "b = 1.1 #underflow\n",
    "try: \n",
    "    for i in range(1, 1000):\n",
    "        a = a**i\n",
    "        print('a=',a)\n",
    "except OverflowError as e:\n",
    "    print(\"\\nOverflow error happened\")\n",
    "    print(f\"{e}, {e.__class__}\\n\")\n",
    "\n",
    "try:\n",
    "    for i in range(1, 1000):\n",
    "        b = b**(-i)\n",
    "        print('b=',b)\n",
    "except ZeroDivisionError as e:\n",
    "    print(\"\\nUnderflow error happened\")\n",
    "    print(f\"{e}, {e.__class__}\")"
   ]
  },
  {
   "cell_type": "markdown",
   "metadata": {},
   "source": [
    "4\\. Write a program to determine the machine precision\n",
    "\n",
    "**Tips**: define a new variable by adding a smaller and smaller value (proceeding similarly to prob. 2) to an original variable and check the point where the two are the same "
   ]
  },
  {
   "cell_type": "code",
   "execution_count": 36,
   "metadata": {},
   "outputs": [
    {
     "name": "stdout",
     "output_type": "stream",
     "text": [
      "c= 5.000000000000000000000000000000\n",
      "d \n",
      "equality at 37th iteration\n",
      "d= 5.000000000000000000000000000000\n"
     ]
    }
   ],
   "source": [
    "import math as m\n",
    "c = 5\n",
    "i = 0\n",
    "d = _\n",
    "print('c=', format(c,'.30f'))\n",
    "print('d', d)\n",
    "while True:\n",
    "    d = a+m.exp(-i)\n",
    "    i += 1\n",
    "    if c == d:\n",
    "        break\n",
    "\n",
    "print(f\"equality at {i}th iteration\")\n",
    "print('d=', format(d,'.30f'))"
   ]
  },
  {
   "cell_type": "code",
   "execution_count": 35,
   "metadata": {},
   "outputs": [
    {
     "name": "stdout",
     "output_type": "stream",
     "text": [
      "c= 5.000000000000000000000000000000\n",
      "d \n",
      "equality at 36th iteration\n",
      "5.000000000000000000000000000000\n"
     ]
    }
   ],
   "source": [
    "import math as m\n",
    "c = 5\n",
    "i = 0\n",
    "d = _\n",
    "print('c=', format(c,'.30f'))\n",
    "print('d', d)\n",
    "for i in range(1, 38):\n",
    "    d = a+m.exp(-i)\n",
    "    # i += 1\n",
    "    if c == d:\n",
    "        break\n",
    "\n",
    "print(f\"equality at {i}th iteration\")\n",
    "print(format(d,'.30f'))"
   ]
  },
  {
   "cell_type": "markdown",
   "metadata": {},
   "source": [
    "5\\. Write a function that takes in input three parameters $a$, $b$ and $c$ and prints out the two solutions to the quadratic equation $ax^2+bx+c=0$ using the standard formula:\n",
    "$$\n",
    "x=\\frac{-b\\pm\\sqrt{b^2-4ac}}{2a}\n",
    "$$\n",
    "\n",
    "(a) use the program to compute the solution for $a=0.001$, $b=1000$ and $c=0.001$\n",
    "\n",
    "(b) re-express the standard solution formula by multiplying top and bottom by $-b\\mp\\sqrt{b^2-4ac}$ and again find the solution for $a=0.001$, $b=1000$ and $c=0.001$. How does it compare with what previously obtained? Why?\n",
    "\n",
    "(c) write a function that compute the roots of a quadratic equation accurately in all cases"
   ]
  },
  {
   "cell_type": "code",
   "execution_count": 48,
   "metadata": {},
   "outputs": [
    {
     "name": "stdout",
     "output_type": "stream",
     "text": [
      "(-9.999894245993346e-07, -999999.999999)\n",
      "0.001999978849196669 0.001999978849196669\n"
     ]
    },
    {
     "data": {
      "text/plain": [
       "(-1.1715728752538097, -6.82842712474619)"
      ]
     },
     "execution_count": 48,
     "metadata": {},
     "output_type": "execute_result"
    }
   ],
   "source": [
    "import math as m\n",
    "\n",
    "# a)\n",
    "a = 0.001\n",
    "b = 1000\n",
    "c = 0.001\n",
    "\n",
    "def quad(a, b, c):\n",
    "    x1, x2 = (-b + m.sqrt(b**2 - 4*a*c))/(2*a), (-b - m.sqrt(b**2 - 4*a*c))/(2*a)\n",
    "    return x1, x2\n",
    "\n",
    "print(quad(a, b, c))\n",
    "\n",
    "# b)\n",
    "x11, x22 = quad(a, b, c)[0] * (-b - m.sqrt(b**2 - 4*a*c)), quad(a, b, c)[1] * (-b + m.sqrt(b**2 - 4*a*c))\n",
    "print(x11, x22)\n",
    "\n",
    "# c)\n",
    "import math\n",
    "\n",
    "def quadratic_roots(a, b, c):\n",
    "    \"\"\"\n",
    "    This function computes the roots of a quadratic equation accurately in all cases.\n",
    "    It takes three arguments: a, b, and c, which are coefficients of the quadratic equation.\n",
    "    \"\"\"\n",
    "    discriminant = b**2 - 4*a*c\n",
    "    \n",
    "    if discriminant > 0:\n",
    "        root1 = (-b + math.sqrt(discriminant)) / (2*a)\n",
    "        root2 = (-b - math.sqrt(discriminant)) / (2*a)\n",
    "        return root1, root2\n",
    "    \n",
    "    elif discriminant == 0:\n",
    "        root = -b / (2*a)\n",
    "        return root\n",
    "    \n",
    "    else:\n",
    "        real_part = -b / (2*a)\n",
    "        imaginary_part = math.sqrt(-discriminant) / (2*a)\n",
    "        return complex(real_part, imaginary_part), complex(real_part, -imaginary_part)\n",
    "    \n",
    "quadratic_roots(1, 8, 8)"
   ]
  },
  {
   "cell_type": "markdown",
   "metadata": {},
   "source": [
    "6\\. Write a program that implements the function $f(x)=x(x−1)$\n",
    "\n",
    "(a) Calculate the derivative of the function at the point $x = 1$ using the derivative definition:\n",
    "\n",
    "$$\n",
    "\\frac{{\\rm d}f}{{\\rm d}x} = \\lim_{\\delta\\to0} \\frac{f(x+\\delta)-f(x)}{\\delta}\n",
    "$$\n",
    "\n",
    "with $\\delta = 10^{−2}$. Calculate the true value of the same derivative analytically and compare with the answer your program gives. The two will not agree perfectly. Why not?\n",
    "\n",
    "(b) Repeat the calculation for $\\delta = 10^{−4}, 10^{−6}, 10^{−8}, 10^{−10}, 10^{−12}$ and $10^{−14}$. How does the accuracy scales with $\\delta$?"
   ]
  },
  {
   "cell_type": "code",
   "execution_count": 100,
   "metadata": {},
   "outputs": [
    {
     "name": "stdout",
     "output_type": "stream",
     "text": [
      "a)\n",
      "1.100000000000000976996261670138\n",
      "\n",
      "b)\n",
      "1.000999999999807599238010880072\n",
      "1.000010000007378607733699027449\n",
      "1.000000100503939393092878162861\n",
      "1.000000082740370999090373516083\n",
      "1.000000082740370999090373516083\n",
      "0.999200722162640886381268501282\n",
      "1.110223024625156540423631668091\n",
      "0.000000000000000000000000000000\n",
      "\n",
      "error\n",
      "0.001 : 0.09999999998075992 %\n",
      "1e-05 : 0.0010000007378607734 %\n",
      "1e-07 : 1.0050393939309288e-05 %\n",
      "1e-09 : 8.274037099909037e-06 %\n",
      "1e-11 : 8.274037099909037e-06 %\n",
      "1e-13 : 0.07992778373591136 %\n",
      "1e-15 : 11.022302462515654 %\n",
      "1e-17 : 100.0 %\n"
     ]
    }
   ],
   "source": [
    "import matplotlib.pyplot as plt\n",
    "true_value = 1\n",
    "\n",
    "def f(x):\n",
    "    return x**2-x\n",
    "\n",
    "# a)\n",
    "print('a)') \n",
    "def der_def(f, x, h):\n",
    "    return (f(x+h) - f(x))/h\n",
    "print(format(der_def(f, 1, 10e-2), '.30f'))\n",
    "\n",
    "# b)\n",
    "h_list = [10e-04, 10e-06, 10e-08, 10e-10, 10e-12, 10e-14, 10e-16, 10e-18]\n",
    "print('\\nb)')\n",
    "for i in h_list:\n",
    "    print(format(der_def(f, 1, i), '.30f'))\n",
    "print('\\nerror')\n",
    "\n",
    "acc_list = []\n",
    "for i in h_list:\n",
    "    acc = abs(der_def(f, 1, i) - true_value)*100\n",
    "    acc_list.append(acc)\n",
    "    print(i,':', acc, '%')"
   ]
  },
  {
   "cell_type": "markdown",
   "metadata": {},
   "source": [
    "7\\. Consider the integral of the semicircle of radius 1:\n",
    "$$\n",
    "I=\\int_{-1}^{1} \\sqrt(1-x^2) {\\rm d}x\n",
    "$$\n",
    "which it's known to be $I=\\frac{\\pi}{2}=1.57079632679...$.\n",
    "Alternatively we can use the Riemann definition of the integral:\n",
    "$$\n",
    "I=\\lim_{N\\to\\infty} \\sum_{k=1}^{N} h y_k \n",
    "$$\n",
    "\n",
    "with $h=2/N$ the width of each of the $N$ slices the domain is divided into and where\n",
    "$y_k$ is the value of the function at the $k-$th slice.\n",
    "\n",
    "(a) Write a programe to compute the integral with $N=100$. How does the result compares to the true value?\n",
    "\n",
    "(b) How much can $N$ be increased if the computation needs to be run in less than a second? What is the gain in running it for 1 minute? \n"
   ]
  },
  {
   "cell_type": "code",
   "execution_count": 169,
   "metadata": {},
   "outputs": [
    {
     "name": "stdout",
     "output_type": "stream",
     "text": [
      "1.5802085158895236\n",
      "error is 0.9412189094627044 %\n",
      "N can be increased to 16384 in less than a second.\n",
      "Running the computation for 1 minute would allow N to be increased to 297.\n"
     ]
    }
   ],
   "source": [
    "import math\n",
    "\n",
    "# a)\n",
    "def semi(x):\n",
    "    return (1-x**2)**(1/2)\n",
    "\n",
    "def rie_int(f, N):\n",
    "    h = 2/N\n",
    "    sum = 0\n",
    "    for i in range(N):\n",
    "        sum += f(i*(h/2))*h\n",
    "    return sum\n",
    "\n",
    "print(rie_int(semi, 100))\n",
    "print('error is', abs(rie_int(semi, 100) - 1.5707963267948966)*100, '%')\n",
    "\n",
    "# b)\n",
    "import time\n",
    "\n",
    "start_time = time.perf_counter()\n",
    "N = 1\n",
    "while True:\n",
    "    if rie_int(semi, N) - 1.5707963267948966 < 0.0001:\n",
    "        break\n",
    "    N *= 2\n",
    "\n",
    "end_time = time.perf_counter()\n",
    "\n",
    "elapsed_time = end_time - start_time\n",
    "\n",
    "print(f\"N can be increased to {N} in less than a second.\")\n",
    "print(f\"Running the computation for 1 minute would allow N to be increased to {N*elapsed_time:.0f}.\")\n"
   ]
  },
  {
   "cell_type": "code",
   "execution_count": 170,
   "metadata": {},
   "outputs": [
    {
     "name": "stdout",
     "output_type": "stream",
     "text": [
      "1.5802085158895236\n",
      "error is 0.9412189094627044 %\n",
      "Elapsed time: 0.008190900000045076 seconds, N: 10000\n",
      "equality at 4th iteration\n"
     ]
    }
   ],
   "source": [
    "# a)\n",
    "def semi(x):\n",
    "    return (1-x**2)**(1/2)\n",
    "\n",
    "def rie_int(f, N):\n",
    "    h = 2/N\n",
    "    sum = 0\n",
    "    for i in range(N):\n",
    "        sum += f(i*(h/2))*h\n",
    "    return sum\n",
    "\n",
    "print(rie_int(semi, 100))\n",
    "print('error is', abs(rie_int(semi, 100) - 1.5707963267948966)*100, '%')\n",
    "\n",
    "# b)\n",
    "import time\n",
    "\n",
    "# start_time = time.perf_counter()\n",
    "# rie_int(semi, 4194304)\n",
    "# end_time = time.perf_counter()\n",
    "\n",
    "# elapsed_time = end_time - start_time\n",
    "# print(\"Elapsed time:\", elapsed_time, \"seconds\")\n",
    "\n",
    "i = 1\n",
    "while True:\n",
    "    start_time = time.perf_counter()\n",
    "    rie_int(semi, 10**i)\n",
    "    end_time = time.perf_counter()\n",
    "    elapsed_time = end_time - start_time\n",
    "    i += 1\n",
    "    if elapsed_time >= 1.:\n",
    "        break\n",
    "print(f\"Elapsed time: {elapsed_time} seconds, N: {10**i}\")\n",
    "print(f\"equality at {i}th iteration\")\n",
    "\n",
    "# while True:\n",
    "#     start_time = time.perf_counter()\n",
    "#     rie_int(semi, 2**i)\n",
    "#     end_time = time.perf_counter()\n",
    "#     elapsed_time = end_time - start_time\n",
    "#     i += 1\n",
    "#     if elapsed_time.hex() == 60.:\n",
    "#         break\n",
    "# print(f\"Elapsed time: {elapsed_time} seconds, N: {2**i}\")\n",
    "# print(\"integral\", rie_int(semi, 2**i))"
   ]
  },
  {
   "cell_type": "code",
   "execution_count": null,
   "metadata": {},
   "outputs": [],
   "source": []
  }
 ],
 "metadata": {
  "kernelspec": {
   "display_name": "complab_env",
   "language": "python",
   "name": "complab"
  },
  "language_info": {
   "codemirror_mode": {
    "name": "ipython",
    "version": 3
   },
   "file_extension": ".py",
   "mimetype": "text/x-python",
   "name": "python",
   "nbconvert_exporter": "python",
   "pygments_lexer": "ipython3",
   "version": "3.8.17"
  }
 },
 "nbformat": 4,
 "nbformat_minor": 2
}
