{
 "cells": [
  {
   "cell_type": "markdown",
   "metadata": {},
   "source": [
    "1\\. Write a function that converts number representation, bin<->dec<->hex. (Clearly using the corresponding python built-in functions is not fair..)"
   ]
  },
  {
   "cell_type": "code",
   "execution_count": 63,
   "metadata": {},
   "outputs": [
    {
     "name": "stdout",
     "output_type": "stream",
     "text": [
      "30\n",
      "004D\n"
     ]
    }
   ],
   "source": [
    "# bin <-> dec\n",
    "\n",
    "def bin_dec(n, bin=True, bits=16):\n",
    "\n",
    "    \"\"\"\n",
    "    n: The input must be given as a string.\n",
    "        The input for a binary number must composed of 0s and 1s.\n",
    "    bin: To convert from binary to decimal, set bin=True. \n",
    "        To convert from decimal to binary, set bin=False.\n",
    "    bits: The number of bits can be specified with the bits parameter,\n",
    "        in order to have a better readability of the binary number.\n",
    "    \"\"\"\n",
    "    \n",
    "    if bin == True: # convert from bin to dec\n",
    "        n = str(n) # convert to a string, if it is not a string\n",
    "        dec = 0 # set the decimal number to 0\n",
    "        if n[0] == '1': # check if the leftmost digit is 1\n",
    "            sign = -1 # set the sign to negative\n",
    "            n = n[1:] # remove the sign bit\n",
    "        else:\n",
    "            sign = 1 # set the sign to positive\n",
    "        for i in range(len(n)): # loop over the binary string\n",
    "            dec += int(n[i]) * 2 ** (len(n) - i - 1) \n",
    "        return sign * dec # return integer \n",
    "    \n",
    "    else: # convert from dec to bin\n",
    "        n = int(n) # convert the string to an integer\n",
    "        binn = '' # set the binary string to an empty string\n",
    "        while n > 0:\n",
    "            binn = str(n % 2) + binn # add the remainder to the binary string\n",
    "            n = n // 2\n",
    "        binn = binn.zfill(bits) # add 0s in front of the binary number\n",
    "        return int(binn, bits) # return an integer\n",
    "\n",
    "print(bin_dec('00011110', bin=True))\n",
    "\n",
    "# dec <-> hex\n",
    "\n",
    "def dec_hex(n, dec=True, bits=16):\n",
    "\n",
    "    \"\"\"\n",
    "    n: The input must be given as a string.\n",
    "        The input for a binary number must composed of 0s and 1s.\n",
    "    bin: To convert from binary to decimal, set bin=True. \n",
    "        To convert from decimal to binary, set bin=False.\n",
    "    bits: The number of bits can be specified with the bits parameter,\n",
    "        in order to have a better readability of the binary number.\n",
    "    \"\"\"\n",
    "\n",
    "    hex_digits = \"0123456789ABCDEF\"\n",
    "    if dec == True:\n",
    "        n = int(n)\n",
    "        hexx = ''\n",
    "        while n > 0:\n",
    "            hexx = hex_digits[n % 16] + hexx\n",
    "            n = n // 16\n",
    "        hexx = hexx.zfill(bits // 4)\n",
    "        return hexx\n",
    "            \n",
    "    else: # convert from hex to dec\n",
    "        n = str(n) # convert to a string, if it is not a string\n",
    "        dec = 0 # set the decimal number to 0\n",
    "        for i in range(len(n)): # loop over the hexadecimal string\n",
    "            dec += hex_digits.index(n[i]) * 16 ** (len(n) - i - 1) \n",
    "        return int(dec) # return integer\n",
    "    \n",
    "print(dec_hex('77', dec=True))"
   ]
  },
  {
   "cell_type": "markdown",
   "metadata": {},
   "source": [
    "2\\. Write a function that converts a 32 bit word into a single precision floating point (i.e. interprets the various bits as sign, mantissa and exponent)"
   ]
  },
  {
   "cell_type": "code",
   "execution_count": 67,
   "metadata": {},
   "outputs": [
    {
     "name": "stdout",
     "output_type": "stream",
     "text": [
      "0.5772156715393066\n"
     ]
    }
   ],
   "source": [
    "def word_to_float(word):\n",
    "    \"\"\"\n",
    "    Convert a 32-bit word to a single precision floating point number.\n",
    "    \"\"\"\n",
    "    # Extract the sign bit, exponent bits, and mantissa bits\n",
    "    sign = (word >> 31) & 0x1 # shift word 31 bits to the right + bitwise AND with 0x1 = 1 if sign bit is 1, 0 otherwise\n",
    "    exponent = (word >> 23) & 0xFF # shift word 23 bits to the right + bitwise AND with 0xFF -> isolate 8 bits of exponent\n",
    "    mantissa = word & 0x7FFFFF # bitwise AND with 0x7FFFFF -> isolate 23 bits of mantissa\n",
    "    \n",
    "    # Convert the exponent from biased to actual value\n",
    "    actual_exponent = exponent - 127 # 127 is the bias for single precision\n",
    "    \n",
    "    # Calculate the value of the mantissa as a fraction\n",
    "    fraction = 1.0 # mantissa is usually normalized, so the first bit is 1\n",
    "    for i in range(1, 24): # loop over the 23 bits of the mantissa\n",
    "        bit = (mantissa >> (23 - i)) & 0x1 # shift mantissa 23-i bits to the right + bitwise AND with 0x1 = 1 if bit is 1, 0 otherwise\n",
    "        fraction += bit * 2 ** (-i) # add the value of the bit to the fraction\n",
    "    \n",
    "    # Calculate the value of the floating point number\n",
    "    value = (-1) ** sign * fraction * 2 ** actual_exponent \n",
    "    \n",
    "    return value\n",
    "\n",
    "\n",
    "word = 0x3f13c468\n",
    "print(word_to_float(word))"
   ]
  },
  {
   "cell_type": "markdown",
   "metadata": {},
   "source": [
    "3\\. Write a program to determine the underflow and overflow limits (within a factor of 2) for python on your computer. \n",
    "\n",
    "**Tips**: define two variables inizialized to 1 and halve/double them enough time to exceed the under/over-flow limits  "
   ]
  },
  {
   "cell_type": "code",
   "execution_count": 6,
   "metadata": {},
   "outputs": [
    {
     "name": "stdout",
     "output_type": "stream",
     "text": [
      "a= 1.1\n",
      "a= 1.2100000000000002\n",
      "a= 1.7715610000000008\n",
      "a= 9.84973267580763\n",
      "a= 92709.06881783094\n",
      "a= 6.349409156065518e+29\n",
      "a= 4.160381892062108e+208\n",
      "\n",
      "Overflow error happened\n",
      "(34, 'Result too large'), <class 'OverflowError'>\n",
      "\n",
      "b= 0.9090909090909091\n",
      "b= 1.2100000000000002\n",
      "b= 0.5644739300537772\n",
      "b= 9.849732675807626\n",
      "b= 1.0786431281765497e-05\n",
      "b= 6.349409156065449e+29\n",
      "b= 2.4036254986784937e-209\n"
     ]
    },
    {
     "ename": "OverflowError",
     "evalue": "(34, 'Result too large')",
     "output_type": "error",
     "traceback": [
      "\u001b[1;31m---------------------------------------------------------------------------\u001b[0m",
      "\u001b[1;31mOverflowError\u001b[0m                             Traceback (most recent call last)",
      "\u001b[1;32mc:\\Users\\gabri\\OneDrive - Università degli Studi di Padova\\Desktop\\UNI\\Magistrale\\2023-2024\\comp_lab_a\\LaboratoryOfComputationalPhysics_Y6\\02ex_NumberRepresentation.ipynb Cell 4\u001b[0m line \u001b[0;36m1\n\u001b[0;32m     <a href='vscode-notebook-cell:/c%3A/Users/gabri/OneDrive%20-%20Universit%C3%A0%20degli%20Studi%20di%20Padova/Desktop/UNI/Magistrale/2023-2024/comp_lab_a/LaboratoryOfComputationalPhysics_Y6/02ex_NumberRepresentation.ipynb#X11sZmlsZQ%3D%3D?line=10'>11</a>\u001b[0m \u001b[39mtry\u001b[39;00m:\n\u001b[0;32m     <a href='vscode-notebook-cell:/c%3A/Users/gabri/OneDrive%20-%20Universit%C3%A0%20degli%20Studi%20di%20Padova/Desktop/UNI/Magistrale/2023-2024/comp_lab_a/LaboratoryOfComputationalPhysics_Y6/02ex_NumberRepresentation.ipynb#X11sZmlsZQ%3D%3D?line=11'>12</a>\u001b[0m     \u001b[39mfor\u001b[39;00m i \u001b[39min\u001b[39;00m \u001b[39mrange\u001b[39m(\u001b[39m1\u001b[39m, \u001b[39m1000\u001b[39m):\n\u001b[1;32m---> <a href='vscode-notebook-cell:/c%3A/Users/gabri/OneDrive%20-%20Universit%C3%A0%20degli%20Studi%20di%20Padova/Desktop/UNI/Magistrale/2023-2024/comp_lab_a/LaboratoryOfComputationalPhysics_Y6/02ex_NumberRepresentation.ipynb#X11sZmlsZQ%3D%3D?line=12'>13</a>\u001b[0m         b \u001b[39m=\u001b[39m b\u001b[39m*\u001b[39;49m\u001b[39m*\u001b[39;49m(\u001b[39m-\u001b[39;49mi)\n\u001b[0;32m     <a href='vscode-notebook-cell:/c%3A/Users/gabri/OneDrive%20-%20Universit%C3%A0%20degli%20Studi%20di%20Padova/Desktop/UNI/Magistrale/2023-2024/comp_lab_a/LaboratoryOfComputationalPhysics_Y6/02ex_NumberRepresentation.ipynb#X11sZmlsZQ%3D%3D?line=13'>14</a>\u001b[0m         \u001b[39mprint\u001b[39m(\u001b[39m'\u001b[39m\u001b[39mb=\u001b[39m\u001b[39m'\u001b[39m,b)\n\u001b[0;32m     <a href='vscode-notebook-cell:/c%3A/Users/gabri/OneDrive%20-%20Universit%C3%A0%20degli%20Studi%20di%20Padova/Desktop/UNI/Magistrale/2023-2024/comp_lab_a/LaboratoryOfComputationalPhysics_Y6/02ex_NumberRepresentation.ipynb#X11sZmlsZQ%3D%3D?line=14'>15</a>\u001b[0m \u001b[39mexcept\u001b[39;00m \u001b[39mZeroDivisionError\u001b[39;00m \u001b[39mas\u001b[39;00m e:\n",
      "\u001b[1;31mOverflowError\u001b[0m: (34, 'Result too large')"
     ]
    }
   ],
   "source": [
    "a = 1.1 #overflow\n",
    "b = 1.1 #underflow\n",
    "try: \n",
    "    for i in range(1, 1000):\n",
    "        a = a**i\n",
    "        print('a=',a)\n",
    "except OverflowError as e:\n",
    "    print(\"\\nOverflow error happened\")\n",
    "    print(f\"{e}, {e.__class__}\\n\")\n",
    "\n",
    "try:\n",
    "    for i in range(1, 1000):\n",
    "        b = b**(-i)\n",
    "        print('b=',b)\n",
    "except ZeroDivisionError as e:\n",
    "    print(\"\\nUnderflow error happened\")\n",
    "    print(f\"{e}, {e.__class__}\")"
   ]
  },
  {
   "cell_type": "markdown",
   "metadata": {},
   "source": [
    "4\\. Write a program to determine the machine precision\n",
    "\n",
    "**Tips**: define a new variable by adding a smaller and smaller value (proceeding similarly to prob. 2) to an original variable and check the point where the two are the same "
   ]
  },
  {
   "cell_type": "code",
   "execution_count": 36,
   "metadata": {},
   "outputs": [
    {
     "name": "stdout",
     "output_type": "stream",
     "text": [
      "c= 5.000000000000000000000000000000\n",
      "d \n",
      "equality at 37th iteration\n",
      "d= 5.000000000000000000000000000000\n"
     ]
    }
   ],
   "source": [
    "import math as m\n",
    "c = 5\n",
    "i = 0\n",
    "d = _\n",
    "print('c=', format(c,'.30f'))\n",
    "print('d', d)\n",
    "while True:\n",
    "    d = a+m.exp(-i)\n",
    "    i += 1\n",
    "    if c == d:\n",
    "        break\n",
    "\n",
    "print(f\"equality at {i}th iteration\")\n",
    "print('d=', format(d,'.30f'))"
   ]
  },
  {
   "cell_type": "code",
   "execution_count": 35,
   "metadata": {},
   "outputs": [
    {
     "name": "stdout",
     "output_type": "stream",
     "text": [
      "c= 5.000000000000000000000000000000\n",
      "d \n",
      "equality at 36th iteration\n",
      "5.000000000000000000000000000000\n"
     ]
    }
   ],
   "source": [
    "import math as m\n",
    "c = 5\n",
    "i = 0\n",
    "d = _\n",
    "print('c=', format(c,'.30f'))\n",
    "print('d', d)\n",
    "for i in range(1, 38):\n",
    "    d = a+m.exp(-i)\n",
    "    # i += 1\n",
    "    if c == d:\n",
    "        break\n",
    "\n",
    "print(f\"equality at {i}th iteration\")\n",
    "print(format(d,'.30f'))"
   ]
  },
  {
   "cell_type": "markdown",
   "metadata": {},
   "source": [
    "5\\. Write a function that takes in input three parameters $a$, $b$ and $c$ and prints out the two solutions to the quadratic equation $ax^2+bx+c=0$ using the standard formula:\n",
    "$$\n",
    "x=\\frac{-b\\pm\\sqrt{b^2-4ac}}{2a}\n",
    "$$\n",
    "\n",
    "(a) use the program to compute the solution for $a=0.001$, $b=1000$ and $c=0.001$\n",
    "\n",
    "(b) re-express the standard solution formula by multiplying top and bottom by $-b\\mp\\sqrt{b^2-4ac}$ and again find the solution for $a=0.001$, $b=1000$ and $c=0.001$. How does it compare with what previously obtained? Why?\n",
    "\n",
    "(c) write a function that compute the roots of a quadratic equation accurately in all cases"
   ]
  },
  {
   "cell_type": "code",
   "execution_count": 9,
   "metadata": {},
   "outputs": [
    {
     "name": "stdout",
     "output_type": "stream",
     "text": [
      "(-9.999894245993346e-07, -999999.999999)\n",
      "(0.0019999788491967, 0.0019999788491967)\n"
     ]
    },
    {
     "data": {
      "text/plain": [
       "(-9.999894245993346e-07, -999999.999999)"
      ]
     },
     "execution_count": 9,
     "metadata": {},
     "output_type": "execute_result"
    }
   ],
   "source": [
    "import math as m\n",
    "\n",
    "# a)\n",
    "a = 0.001\n",
    "b = 1000\n",
    "c = 0.001\n",
    "\n",
    "def quad(a, b, c):\n",
    "    x1, x2 = (-b + m.sqrt(b**2 - 4*a*c))/(2*a), (-b - m.sqrt(b**2 - 4*a*c))/(2*a)\n",
    "    return x1, x2\n",
    "\n",
    "print(quad(a, b, c))\n",
    "\n",
    "# b)\n",
    "x11, x22 = quad(a, b, c)[0] * (-b - m.sqrt(b**2 - 4*a*c)), quad(a, b, c)[1] * (-b + m.sqrt(b**2 - 4*a*c))\n",
    "print(\"(%.16f, %.16f)\" % (x11, x22))\n",
    "\n",
    "# c)\n",
    "import math\n",
    "\n",
    "def quadratic_roots(a, b, c):\n",
    "    \"\"\"\n",
    "    This function computes the roots of a quadratic equation accurately in all cases.\n",
    "    It takes three arguments: a, b, and c, which are coefficients of the quadratic equation.\n",
    "    \"\"\"\n",
    "    discriminant = b**2 - 4*a*c\n",
    "    \n",
    "    if discriminant > 0:\n",
    "        root1 = (-b + math.sqrt(discriminant)) / (2*a)\n",
    "        root2 = (-b - math.sqrt(discriminant)) / (2*a)\n",
    "        return root1, root2\n",
    "    \n",
    "    elif discriminant == 0:\n",
    "        root = -b / (2*a)\n",
    "        return root\n",
    "    \n",
    "    else:\n",
    "        real_part = -b / (2*a)\n",
    "        imaginary_part = math.sqrt(-discriminant) / (2*a)\n",
    "        return complex(real_part, imaginary_part), complex(real_part, -imaginary_part)\n",
    "    \n",
    "quadratic_roots(a, b, c)"
   ]
  },
  {
   "cell_type": "markdown",
   "metadata": {},
   "source": [
    "6\\. Write a program that implements the function $f(x)=x(x−1)$\n",
    "\n",
    "(a) Calculate the derivative of the function at the point $x = 1$ using the derivative definition:\n",
    "\n",
    "$$\n",
    "\\frac{{\\rm d}f}{{\\rm d}x} = \\lim_{\\delta\\to0} \\frac{f(x+\\delta)-f(x)}{\\delta}\n",
    "$$\n",
    "\n",
    "with $\\delta = 10^{−2}$. Calculate the true value of the same derivative analytically and compare with the answer your program gives. The two will not agree perfectly. Why not?\n",
    "\n",
    "(b) Repeat the calculation for $\\delta = 10^{−4}, 10^{−6}, 10^{−8}, 10^{−10}, 10^{−12}$ and $10^{−14}$. How does the accuracy scales with $\\delta$?"
   ]
  },
  {
   "cell_type": "code",
   "execution_count": 100,
   "metadata": {},
   "outputs": [
    {
     "name": "stdout",
     "output_type": "stream",
     "text": [
      "a)\n",
      "1.100000000000000976996261670138\n",
      "\n",
      "b)\n",
      "1.000999999999807599238010880072\n",
      "1.000010000007378607733699027449\n",
      "1.000000100503939393092878162861\n",
      "1.000000082740370999090373516083\n",
      "1.000000082740370999090373516083\n",
      "0.999200722162640886381268501282\n",
      "1.110223024625156540423631668091\n",
      "0.000000000000000000000000000000\n",
      "\n",
      "error\n",
      "0.001 : 0.09999999998075992 %\n",
      "1e-05 : 0.0010000007378607734 %\n",
      "1e-07 : 1.0050393939309288e-05 %\n",
      "1e-09 : 8.274037099909037e-06 %\n",
      "1e-11 : 8.274037099909037e-06 %\n",
      "1e-13 : 0.07992778373591136 %\n",
      "1e-15 : 11.022302462515654 %\n",
      "1e-17 : 100.0 %\n"
     ]
    }
   ],
   "source": [
    "import matplotlib.pyplot as plt\n",
    "true_value = 1\n",
    "\n",
    "def f(x):\n",
    "    return x**2-x\n",
    "\n",
    "# a)\n",
    "print('a)') \n",
    "def der_def(f, x, h):\n",
    "    return (f(x+h) - f(x))/h\n",
    "print(format(der_def(f, 1, 10e-2), '.30f'))\n",
    "\n",
    "# b)\n",
    "h_list = [10e-04, 10e-06, 10e-08, 10e-10, 10e-12, 10e-14, 10e-16, 10e-18]\n",
    "print('\\nb)')\n",
    "for i in h_list:\n",
    "    print(format(der_def(f, 1, i), '.30f'))\n",
    "print('\\nerror')\n",
    "\n",
    "acc_list = []\n",
    "for i in h_list:\n",
    "    acc = abs(der_def(f, 1, i) - true_value)*100\n",
    "    acc_list.append(acc)\n",
    "    print(i,':', acc, '%')"
   ]
  },
  {
   "cell_type": "markdown",
   "metadata": {},
   "source": [
    "7\\. Consider the integral of the semicircle of radius 1:\n",
    "$$\n",
    "I=\\int_{-1}^{1} \\sqrt(1-x^2) {\\rm d}x\n",
    "$$\n",
    "which it's known to be $I=\\frac{\\pi}{2}=1.57079632679...$.\n",
    "Alternatively we can use the Riemann definition of the integral:\n",
    "$$\n",
    "I=\\lim_{N\\to\\infty} \\sum_{k=1}^{N} h y_k \n",
    "$$\n",
    "\n",
    "with $h=2/N$ the width of each of the $N$ slices the domain is divided into and where\n",
    "$y_k$ is the value of the function at the $k-$th slice.\n",
    "\n",
    "(a) Write a programe to compute the integral with $N=100$. How does the result compares to the true value?\n",
    "\n",
    "(b) How much can $N$ be increased if the computation needs to be run in less than a second? What is the gain in running it for 1 minute? \n"
   ]
  },
  {
   "cell_type": "code",
   "execution_count": 75,
   "metadata": {},
   "outputs": [
    {
     "name": "stdout",
     "output_type": "stream",
     "text": [
      "1.5602085158895234\n",
      "error is 1.0587810905373196 %\n"
     ]
    },
    {
     "data": {
      "text/plain": [
       "1.5691342555492505"
      ]
     },
     "execution_count": 75,
     "metadata": {},
     "output_type": "execute_result"
    }
   ],
   "source": [
    "import math\n",
    "\n",
    "# a)\n",
    "def semi(x):\n",
    "    return (1-x**2)**(1/2)\n",
    "\n",
    "def rie_int(f, N):\n",
    "    h = 2/N\n",
    "    sum = 0\n",
    "    for i in range(1, N+1):\n",
    "        sum += f(i*(h/2))*h\n",
    "    return sum\n",
    "\n",
    "print(rie_int(semi, 100))\n",
    "print('error is', abs(rie_int(semi, 100) - 1.5707963267948966)*100, '%')"
   ]
  },
  {
   "cell_type": "code",
   "execution_count": 128,
   "metadata": {},
   "outputs": [
    {
     "name": "stdout",
     "output_type": "stream",
     "text": [
      "Total time: 0.00e+00 sec\n",
      "Res: 0.0\tErr: 1.0e+02%\n",
      "Tru: 1.5707963267948966\tN: 10^0\n",
      "\n",
      "Total time: 0.00e+00 sec\n",
      "Res: 1.5185244144417758\tErr: 3.3e+00%\n",
      "Tru: 1.5707963267948966\tN: 10^1\n",
      "\n",
      "Total time: 0.00e+00 sec\n",
      "Res: 1.5691342555492505\tErr: 1.1e-01%\n",
      "Tru: 1.5707963267948966\tN: 10^2\n",
      "\n",
      "Total time: 9.99e-04 sec\n",
      "Res: 1.570743738501071\tErr: 3.3e-03%\n",
      "Tru: 1.5707963267948966\tN: 10^3\n",
      "\n",
      "Total time: 4.03e-03 sec\n",
      "Res: 1.570794663715291\tErr: 1.1e-04%\n",
      "Tru: 1.5707963267948966\tN: 10^4\n",
      "\n",
      "Total time: 6.60e-02 sec\n",
      "Res: 1.5707962742034223\tErr: 3.3e-06%\n",
      "Tru: 1.5707963267948966\tN: 10^5\n",
      "\n",
      "Total time: 7.97e-01 sec\n",
      "Res: 1.5707963251317274\tErr: 1.1e-07%\n",
      "Tru: 1.5707963267948966\tN: 10^6\n",
      "\n",
      "Total time: 5.47e+00 sec\n",
      "Res: 1.5707963267423612\tErr: 3.3e-09%\n",
      "Tru: 1.5707963267948966\tN: 10^7\n",
      "\n",
      "Total time: 6.58e+01 sec\n",
      "Res: 1.570796326793284\tErr: 1.0e-10%\n",
      "Tru: 1.5707963267948966\tN: 10^8\n",
      "\n"
     ]
    },
    {
     "data": {
      "image/png": "[encoded data removed]",
      "text/plain": [
       "<Figure size 640x480 with 1 Axes>"
      ]
     },
     "metadata": {},
     "output_type": "display_data"
    }
   ],
   "source": [
    "# a + b)\n",
    "\n",
    "import math\n",
    "import time\n",
    "import matplotlib.pyplot as plt\n",
    "from matplotlib.ticker import ScalarFormatter\n",
    "\n",
    "def func(x):\n",
    "    return (1-x**2)**(0.5)\n",
    "\n",
    "def timer(func):\n",
    "    def func_wrapper(*args, **kwargs):\n",
    "        t_s = time.time()\n",
    "        ret = func(*args, **kwargs)\n",
    "        t_total = time.time() - t_s\n",
    "        print('Total time: %.2e sec' % t_total)\n",
    "        return ret\n",
    "    return func_wrapper\n",
    "\n",
    "@timer\n",
    "def integrate(start, stop, N, func):\n",
    "    dx = (stop-start)/N\n",
    "    integral=0\n",
    "    for i in range(N):\n",
    "        x = start + dx*i\n",
    "        integral += func(x)*dx\n",
    "    return integral\n",
    "\n",
    "S = []\n",
    "\n",
    "def perc_error(i, N):\n",
    "    pi_half = integrate(-1, 1, N, func)\n",
    "    S.append(pi_half)\n",
    "    perc = abs(pi_half- math.pi/2)/(math.pi/2)*100\n",
    "    print('Res: ', pi_half, '\\tErr: %.1e' % perc, '%', '\\nTru: ', math.pi/2, '\\tN: 10^', i, '\\n', sep='')\n",
    "\n",
    "subdiv=[10**i for i in range(0, 9)]\n",
    "#subdiv.append(2*100000000)\n",
    "for i, n in enumerate(subdiv):\n",
    "    perc_error(i, n)\n",
    "\n",
    "\n",
    "plt.figure()\n",
    "plt.plot(S, label=\"Riemann sum\")\n",
    "plt.plot([np.pi/2] * len(S), label=\"True value\")\n",
    "plt.legend()\n",
    "plt.xlabel(\"exponent 10^N\")\n",
    "plt.ylabel(\"Integral value\")\n",
    "plt.xticks(range(len(subdiv)), [i for i in range(0, 9)])\n",
    "\n",
    "# set x-axis ticks to be in scientific notation\n",
    "plt.gca().xaxis.set_major_formatter(ScalarFormatter())\n",
    "\n",
    "plt.title(\"Convergence of Riemann sum for semicircle integral\")\n",
    "plt.show()"
   ]
  },
  {
   "cell_type": "code",
   "execution_count": null,
   "metadata": {},
   "outputs": [],
   "source": []
  }
 ],
 "metadata": {
  "kernelspec": {
   "display_name": "complab_env",
   "language": "python",
   "name": "complab"
  },
  "language_info": {
   "codemirror_mode": {
    "name": "ipython",
    "version": 3
   },
   "file_extension": ".py",
   "mimetype": "text/x-python",
   "name": "python",
   "nbconvert_exporter": "python",
   "pygments_lexer": "ipython3",
   "version": "3.8.17"
  }
 },
 "nbformat": 4,
 "nbformat_minor": 2
}
